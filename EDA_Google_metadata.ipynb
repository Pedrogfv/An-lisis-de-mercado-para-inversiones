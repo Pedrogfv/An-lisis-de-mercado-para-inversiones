{
 "cells": [
  {
   "cell_type": "code",
   "execution_count": 1,
   "metadata": {},
   "outputs": [],
   "source": [
    "import os\n",
    "import pandas as pd\n",
    "import matplotlib.pyplot as plt\n",
    "import seaborn as sns"
   ]
  },
  {
   "cell_type": "markdown",
   "metadata": {},
   "source": [
    "<h1>EDA metadata-sitios</h1>\n",
    "Nuestro Dataset de Google Maps está dividido en dos directorios: \"reviews-estados\" (posee datos sobre las reviews de cada estado de Estados Unidos) y \"metadata-sitios\" (posee datos sobre cada negocio)."
   ]
  },
  {
   "cell_type": "markdown",
   "metadata": {},
   "source": [
    "<h3>Análisis del directorio \"metadata-sitios\"</h3>\n",
    "Este posee la información de diversos negocios, la cual está dividida en distintos archivos JSON."
   ]
  },
  {
   "cell_type": "markdown",
   "metadata": {},
   "source": [
    "**Cargamos los arhcivos JSON de la metadata de los negocios y los unificamos, para luego guardarlo como CSV:**"
   ]
  },
  {
   "cell_type": "code",
   "execution_count": null,
   "metadata": {},
   "outputs": [],
   "source": [
    "# Ruta de la carpeta que contiene los archivos JSON:\n",
    "carpeta = r\"..\\Datasets\\Google Maps\\metadata-sitios\"\n",
    "\n",
    "# Obtenemos la lista de archivos en la carpeta:\n",
    "archivos = os.listdir(carpeta)\n",
    "\n",
    "# Lista para almacenar los DataFrames de los JSON individuales:\n",
    "dataframes = []\n",
    "\n",
    "# Iteramos sobre los archivos:\n",
    "for archivo in archivos:\n",
    "\n",
    "    # Verificamos si el archivo es un archivo JSON:\n",
    "    if archivo.endswith(\".json\"):\n",
    "\n",
    "        # Construimos la ruta completa al archivo:\n",
    "        ruta_completa = os.path.join(carpeta, archivo)\n",
    "        \n",
    "        # Cargamos el archivo JSON como DataFrame:\n",
    "        df = pd.read_json(ruta_completa, lines=True)\n",
    "        \n",
    "        # Agregamos el DataFrame a la lista:\n",
    "        dataframes.append(df)\n",
    "\n",
    "# Concatenamos todos los DataFrames en uno solo:\n",
    "df_completo = pd.concat(dataframes, ignore_index=True)\n",
    "\n",
    "# Guardado como CSV:\n",
    "df_completo.to_csv(\"../Datasets/Google Maps/metadata_sitios.csv\", index=False)"
   ]
  },
  {
   "cell_type": "markdown",
   "metadata": {},
   "source": [
    "**Cargamos el CSV creado:**"
   ]
  },
  {
   "cell_type": "code",
   "execution_count": 3,
   "metadata": {},
   "outputs": [
    {
     "data": {
      "text/html": [
       "<div>\n",
       "<style scoped>\n",
       "    .dataframe tbody tr th:only-of-type {\n",
       "        vertical-align: middle;\n",
       "    }\n",
       "\n",
       "    .dataframe tbody tr th {\n",
       "        vertical-align: top;\n",
       "    }\n",
       "\n",
       "    .dataframe thead th {\n",
       "        text-align: right;\n",
       "    }\n",
       "</style>\n",
       "<table border=\"1\" class=\"dataframe\">\n",
       "  <thead>\n",
       "    <tr style=\"text-align: right;\">\n",
       "      <th></th>\n",
       "      <th>name</th>\n",
       "      <th>address</th>\n",
       "      <th>gmap_id</th>\n",
       "      <th>description</th>\n",
       "      <th>latitude</th>\n",
       "      <th>longitude</th>\n",
       "      <th>category</th>\n",
       "      <th>avg_rating</th>\n",
       "      <th>num_of_reviews</th>\n",
       "      <th>price</th>\n",
       "      <th>hours</th>\n",
       "      <th>MISC</th>\n",
       "      <th>state</th>\n",
       "      <th>relative_results</th>\n",
       "      <th>url</th>\n",
       "    </tr>\n",
       "  </thead>\n",
       "  <tbody>\n",
       "    <tr>\n",
       "      <th>0</th>\n",
       "      <td>Porter Pharmacy</td>\n",
       "      <td>Porter Pharmacy, 129 N Second St, Cochran, GA ...</td>\n",
       "      <td>0x88f16e41928ff687:0x883dad4fd048e8f8</td>\n",
       "      <td>NaN</td>\n",
       "      <td>32.388300</td>\n",
       "      <td>-83.357100</td>\n",
       "      <td>['Pharmacy']</td>\n",
       "      <td>4.9</td>\n",
       "      <td>16</td>\n",
       "      <td>NaN</td>\n",
       "      <td>[['Friday', '8AM–6PM'], ['Saturday', '8AM–12PM...</td>\n",
       "      <td>{'Service options': ['In-store shopping', 'Sam...</td>\n",
       "      <td>Open ⋅ Closes 6PM</td>\n",
       "      <td>['0x88f16e41929435cf:0x5b2532a2885e9ef6', '0x8...</td>\n",
       "      <td>https://www.google.com/maps/place//data=!4m2!3...</td>\n",
       "    </tr>\n",
       "    <tr>\n",
       "      <th>1</th>\n",
       "      <td>City Textile</td>\n",
       "      <td>City Textile, 3001 E Pico Blvd, Los Angeles, C...</td>\n",
       "      <td>0x80c2c98c0e3c16fd:0x29ec8a728764fdf9</td>\n",
       "      <td>NaN</td>\n",
       "      <td>34.018891</td>\n",
       "      <td>-118.215290</td>\n",
       "      <td>['Textile exporter']</td>\n",
       "      <td>4.5</td>\n",
       "      <td>6</td>\n",
       "      <td>NaN</td>\n",
       "      <td>NaN</td>\n",
       "      <td>NaN</td>\n",
       "      <td>Open now</td>\n",
       "      <td>['0x80c2c624136ea88b:0xb0315367ed448771', '0x8...</td>\n",
       "      <td>https://www.google.com/maps/place//data=!4m2!3...</td>\n",
       "    </tr>\n",
       "    <tr>\n",
       "      <th>2</th>\n",
       "      <td>San Soo Dang</td>\n",
       "      <td>San Soo Dang, 761 S Vermont Ave, Los Angeles, ...</td>\n",
       "      <td>0x80c2c778e3b73d33:0xbdc58662a4a97d49</td>\n",
       "      <td>NaN</td>\n",
       "      <td>34.058092</td>\n",
       "      <td>-118.292130</td>\n",
       "      <td>['Korean restaurant']</td>\n",
       "      <td>4.4</td>\n",
       "      <td>18</td>\n",
       "      <td>NaN</td>\n",
       "      <td>[['Thursday', '6:30AM–6PM'], ['Friday', '6:30A...</td>\n",
       "      <td>{'Service options': ['Takeout', 'Dine-in', 'De...</td>\n",
       "      <td>Open ⋅ Closes 6PM</td>\n",
       "      <td>['0x80c2c78249aba68f:0x35bf16ce61be751d', '0x8...</td>\n",
       "      <td>https://www.google.com/maps/place//data=!4m2!3...</td>\n",
       "    </tr>\n",
       "    <tr>\n",
       "      <th>3</th>\n",
       "      <td>Nova Fabrics</td>\n",
       "      <td>Nova Fabrics, 2200 E 11th St, Los Angeles, CA ...</td>\n",
       "      <td>0x80c2c89923b27a41:0x32041559418d447</td>\n",
       "      <td>NaN</td>\n",
       "      <td>34.023669</td>\n",
       "      <td>-118.232930</td>\n",
       "      <td>['Fabric store']</td>\n",
       "      <td>3.3</td>\n",
       "      <td>6</td>\n",
       "      <td>NaN</td>\n",
       "      <td>[['Thursday', '9AM–5PM'], ['Friday', '9AM–5PM'...</td>\n",
       "      <td>{'Service options': ['In-store shopping'], 'Pa...</td>\n",
       "      <td>Open ⋅ Closes 5PM</td>\n",
       "      <td>['0x80c2c8811477253f:0x23a8a492df1918f7', '0x8...</td>\n",
       "      <td>https://www.google.com/maps/place//data=!4m2!3...</td>\n",
       "    </tr>\n",
       "    <tr>\n",
       "      <th>4</th>\n",
       "      <td>Nobel Textile Co</td>\n",
       "      <td>Nobel Textile Co, 719 E 9th St, Los Angeles, C...</td>\n",
       "      <td>0x80c2c632f933b073:0xc31785961fe826a6</td>\n",
       "      <td>NaN</td>\n",
       "      <td>34.036694</td>\n",
       "      <td>-118.249421</td>\n",
       "      <td>['Fabric store']</td>\n",
       "      <td>4.3</td>\n",
       "      <td>7</td>\n",
       "      <td>NaN</td>\n",
       "      <td>[['Thursday', '9AM–5PM'], ['Friday', '9AM–5PM'...</td>\n",
       "      <td>{'Service options': ['In-store pickup']}</td>\n",
       "      <td>Open ⋅ Closes 5PM</td>\n",
       "      <td>['0x80c2c62c496083d1:0xdefa11317fe870a1', '0x8...</td>\n",
       "      <td>https://www.google.com/maps/place//data=!4m2!3...</td>\n",
       "    </tr>\n",
       "  </tbody>\n",
       "</table>\n",
       "</div>"
      ],
      "text/plain": [
       "               name                                            address  \\\n",
       "0   Porter Pharmacy  Porter Pharmacy, 129 N Second St, Cochran, GA ...   \n",
       "1      City Textile  City Textile, 3001 E Pico Blvd, Los Angeles, C...   \n",
       "2      San Soo Dang  San Soo Dang, 761 S Vermont Ave, Los Angeles, ...   \n",
       "3      Nova Fabrics  Nova Fabrics, 2200 E 11th St, Los Angeles, CA ...   \n",
       "4  Nobel Textile Co  Nobel Textile Co, 719 E 9th St, Los Angeles, C...   \n",
       "\n",
       "                                 gmap_id description   latitude   longitude  \\\n",
       "0  0x88f16e41928ff687:0x883dad4fd048e8f8         NaN  32.388300  -83.357100   \n",
       "1  0x80c2c98c0e3c16fd:0x29ec8a728764fdf9         NaN  34.018891 -118.215290   \n",
       "2  0x80c2c778e3b73d33:0xbdc58662a4a97d49         NaN  34.058092 -118.292130   \n",
       "3   0x80c2c89923b27a41:0x32041559418d447         NaN  34.023669 -118.232930   \n",
       "4  0x80c2c632f933b073:0xc31785961fe826a6         NaN  34.036694 -118.249421   \n",
       "\n",
       "                category  avg_rating  num_of_reviews price  \\\n",
       "0           ['Pharmacy']         4.9              16   NaN   \n",
       "1   ['Textile exporter']         4.5               6   NaN   \n",
       "2  ['Korean restaurant']         4.4              18   NaN   \n",
       "3       ['Fabric store']         3.3               6   NaN   \n",
       "4       ['Fabric store']         4.3               7   NaN   \n",
       "\n",
       "                                               hours  \\\n",
       "0  [['Friday', '8AM–6PM'], ['Saturday', '8AM–12PM...   \n",
       "1                                                NaN   \n",
       "2  [['Thursday', '6:30AM–6PM'], ['Friday', '6:30A...   \n",
       "3  [['Thursday', '9AM–5PM'], ['Friday', '9AM–5PM'...   \n",
       "4  [['Thursday', '9AM–5PM'], ['Friday', '9AM–5PM'...   \n",
       "\n",
       "                                                MISC              state  \\\n",
       "0  {'Service options': ['In-store shopping', 'Sam...  Open ⋅ Closes 6PM   \n",
       "1                                                NaN           Open now   \n",
       "2  {'Service options': ['Takeout', 'Dine-in', 'De...  Open ⋅ Closes 6PM   \n",
       "3  {'Service options': ['In-store shopping'], 'Pa...  Open ⋅ Closes 5PM   \n",
       "4           {'Service options': ['In-store pickup']}  Open ⋅ Closes 5PM   \n",
       "\n",
       "                                    relative_results  \\\n",
       "0  ['0x88f16e41929435cf:0x5b2532a2885e9ef6', '0x8...   \n",
       "1  ['0x80c2c624136ea88b:0xb0315367ed448771', '0x8...   \n",
       "2  ['0x80c2c78249aba68f:0x35bf16ce61be751d', '0x8...   \n",
       "3  ['0x80c2c8811477253f:0x23a8a492df1918f7', '0x8...   \n",
       "4  ['0x80c2c62c496083d1:0xdefa11317fe870a1', '0x8...   \n",
       "\n",
       "                                                 url  \n",
       "0  https://www.google.com/maps/place//data=!4m2!3...  \n",
       "1  https://www.google.com/maps/place//data=!4m2!3...  \n",
       "2  https://www.google.com/maps/place//data=!4m2!3...  \n",
       "3  https://www.google.com/maps/place//data=!4m2!3...  \n",
       "4  https://www.google.com/maps/place//data=!4m2!3...  "
      ]
     },
     "execution_count": 3,
     "metadata": {},
     "output_type": "execute_result"
    }
   ],
   "source": [
    "df_metadata = pd.read_csv(r\"../Datasets/Google Maps/metadata_sitios.csv\")\n",
    "df_metadata.head()"
   ]
  },
  {
   "cell_type": "markdown",
   "metadata": {},
   "source": [
    "**Descripción de cada columna:**"
   ]
  },
  {
   "cell_type": "code",
   "execution_count": 6,
   "metadata": {},
   "outputs": [
    {
     "data": {
      "text/plain": [
       "name                 object\n",
       "address              object\n",
       "gmap_id              object\n",
       "description          object\n",
       "latitude            float64\n",
       "longitude           float64\n",
       "category             object\n",
       "avg_rating          float64\n",
       "num_of_reviews        int64\n",
       "price                object\n",
       "hours                object\n",
       "MISC                 object\n",
       "state                object\n",
       "relative_results     object\n",
       "url                  object\n",
       "dtype: object"
      ]
     },
     "execution_count": 6,
     "metadata": {},
     "output_type": "execute_result"
    }
   ],
   "source": [
    "df_metadata.dtypes"
   ]
  },
  {
   "cell_type": "markdown",
   "metadata": {},
   "source": [
    "Las columnas que presenta nuestro DataFrame son las siguientes:\n",
    "- name: tipo object, nombre del negocio.\n",
    "- address: tipo object, dirección del negocio.\n",
    "- gmap_id: tipo object, ID del negocio.\n",
    "- description: tipo object, descrición del negocio.\n",
    "- latitude: tipo float64, latitud del negocio.\n",
    "- longitude: tipo float64, longitud del negocio.\n",
    "- category: tipo object, categoría del negocio.\n",
    "- avg_rating: tipo float64, calificación promedio del negocio del 1(peor) al 5(mejor).\n",
    "- num_of_reviews: tipo int64, cantidad de reseñas.\n",
    "- price: tipo object, rango de precios del negocio: $ (barato), $$ (moderado), $$$ (caro), $$$$ (muy caro).\n",
    "- hours: tipo object, horario de apertura.\n",
    "- MISC: tipo object, diversa información sobre el negocio (opciones de servicio, salud y seguridad, accesibilidad, planificación, métodos de pago).\n",
    "- state: tipo object, estatus actual del negocio: abierto, cerrado, permanentemente cerrado, etc.\n",
    "- relative_results: tipo object, negocios similares recomendados por Google.\n",
    "- url: tipo object, URL de la ubicación del negocio en Google Maps."
   ]
  },
  {
   "cell_type": "markdown",
   "metadata": {},
   "source": [
    "**Revisamos si hay registros en blanco:**"
   ]
  },
  {
   "cell_type": "code",
   "execution_count": 8,
   "metadata": {},
   "outputs": [
    {
     "data": {
      "text/plain": [
       "0"
      ]
     },
     "execution_count": 8,
     "metadata": {},
     "output_type": "execute_result"
    }
   ],
   "source": [
    "len(df_metadata[df_metadata.isnull().all(axis=1)])"
   ]
  },
  {
   "cell_type": "markdown",
   "metadata": {},
   "source": [
    "No hay registros (filas completas) en blanco."
   ]
  },
  {
   "cell_type": "markdown",
   "metadata": {},
   "source": [
    "**Revisamos la existencia de registros duplicados:**"
   ]
  },
  {
   "cell_type": "code",
   "execution_count": 10,
   "metadata": {},
   "outputs": [
    {
     "data": {
      "text/plain": [
       "26583"
      ]
     },
     "execution_count": 10,
     "metadata": {},
     "output_type": "execute_result"
    }
   ],
   "source": [
    "df_metadata.duplicated().sum()"
   ]
  },
  {
   "cell_type": "markdown",
   "metadata": {},
   "source": [
    "Hay 26583 registros duplicados en el DataFrame."
   ]
  },
  {
   "cell_type": "code",
   "execution_count": 11,
   "metadata": {},
   "outputs": [
    {
     "name": "stdout",
     "output_type": "stream",
     "text": [
      "Cantidad de registros: 3025011\n",
      "Cantidad de registros luego del filtro: 2998428\n"
     ]
    }
   ],
   "source": [
    "# Eliminamos los duplicados:\n",
    "print(f\"Cantidad de registros: {len(df_metadata)}\")\n",
    "df_metadata.drop_duplicates(inplace=True)\n",
    "print(f\"Cantidad de registros luego del filtro: {len(df_metadata)}\")\n"
   ]
  },
  {
   "cell_type": "markdown",
   "metadata": {},
   "source": [
    "**Chequeamos la cantidad de valores nulos en cada columna:**"
   ]
  },
  {
   "cell_type": "code",
   "execution_count": 12,
   "metadata": {},
   "outputs": [
    {
     "data": {
      "image/png": "[encoded data removed]",
      "text/plain": [
       "<Figure size 1000x600 with 1 Axes>"
      ]
     },
     "metadata": {},
     "output_type": "display_data"
    }
   ],
   "source": [
    "porcentaje_nulos = (df_metadata.isnull().sum() / len(df_metadata)) * 100\n",
    "\n",
    "plt.figure(figsize=(10, 6))\n",
    "ax = plt.subplot()\n",
    "porcentaje_nulos.plot(kind=\"bar\", color=\"skyblue\", ax=ax)\n",
    "\n",
    "for i, v in enumerate(porcentaje_nulos): # Agrega el porcentaje de nulos en cada columna\n",
    "    ax.text(i, v + 1, f\"{v:.2f}%\", ha=\"center\", va=\"bottom\", fontsize=10, color=\"black\")\n",
    "\n",
    "plt.title(\"Porcentaje de Valores Nulos por Columna\", fontsize=16)\n",
    "plt.xlabel(\"Columnas\", fontsize=14)\n",
    "plt.ylabel(\"Porcentaje de Nulos\", fontsize=14)\n",
    "plt.show()"
   ]
  },
  {
   "cell_type": "markdown",
   "metadata": {},
   "source": [
    "Las columnas que poseen valores nulos son las siguientes:\n",
    "- adress: 2.65% de valores nulos.\n",
    "- description: 91.56% de valores nulos, la mayoría de los negocios no poseen descripción.\n",
    "- category: 0.57% de valores nulos.\n",
    "- price: 90.86% de valores nulos, la mayoría de los negocios no poseen un rango de precios definido.\n",
    "- hours: 26% de valores nulos.\n",
    "- MISC: 22.78% de valores nulos.\n",
    "- state: 24.64% de valores nulos.\n",
    "- relative_results: 9.72% de valores nulos.\n",
    "\n",
    "Los valores nulos en la columna category representan una pérdida o falta de información ya que la/s categoría/s del negocio es información crucial para su inclusión en el análisis. La falta de datos en las columnas \"hours\", \"MISC\" y \"state\" podrían también representar una falta de información problemática."
   ]
  },
  {
   "cell_type": "markdown",
   "metadata": {},
   "source": [
    "**Visualizamos métricas descriptivas de las columnas numéricas:**"
   ]
  },
  {
   "cell_type": "code",
   "execution_count": 15,
   "metadata": {},
   "outputs": [
    {
     "data": {
      "text/html": [
       "<div>\n",
       "<style scoped>\n",
       "    .dataframe tbody tr th:only-of-type {\n",
       "        vertical-align: middle;\n",
       "    }\n",
       "\n",
       "    .dataframe tbody tr th {\n",
       "        vertical-align: top;\n",
       "    }\n",
       "\n",
       "    .dataframe thead th {\n",
       "        text-align: right;\n",
       "    }\n",
       "</style>\n",
       "<table border=\"1\" class=\"dataframe\">\n",
       "  <thead>\n",
       "    <tr style=\"text-align: right;\">\n",
       "      <th></th>\n",
       "      <th>latitude</th>\n",
       "      <th>longitude</th>\n",
       "      <th>avg_rating</th>\n",
       "      <th>num_of_reviews</th>\n",
       "    </tr>\n",
       "  </thead>\n",
       "  <tbody>\n",
       "    <tr>\n",
       "      <th>count</th>\n",
       "      <td>2.998428e+06</td>\n",
       "      <td>2.998428e+06</td>\n",
       "      <td>2.998428e+06</td>\n",
       "      <td>2.998428e+06</td>\n",
       "    </tr>\n",
       "    <tr>\n",
       "      <th>mean</th>\n",
       "      <td>3.742927e+01</td>\n",
       "      <td>-9.234204e+01</td>\n",
       "      <td>4.303666e+00</td>\n",
       "      <td>4.384394e+01</td>\n",
       "    </tr>\n",
       "    <tr>\n",
       "      <th>std</th>\n",
       "      <td>5.425494e+00</td>\n",
       "      <td>1.635375e+01</td>\n",
       "      <td>7.119273e-01</td>\n",
       "      <td>1.435629e+02</td>\n",
       "    </tr>\n",
       "    <tr>\n",
       "      <th>min</th>\n",
       "      <td>-4.092931e+01</td>\n",
       "      <td>-1.788071e+02</td>\n",
       "      <td>1.000000e+00</td>\n",
       "      <td>1.000000e+00</td>\n",
       "    </tr>\n",
       "    <tr>\n",
       "      <th>25%</th>\n",
       "      <td>3.370949e+01</td>\n",
       "      <td>-9.925989e+01</td>\n",
       "      <td>4.000000e+00</td>\n",
       "      <td>7.000000e+00</td>\n",
       "    </tr>\n",
       "    <tr>\n",
       "      <th>50%</th>\n",
       "      <td>3.827702e+01</td>\n",
       "      <td>-8.759823e+01</td>\n",
       "      <td>4.500000e+00</td>\n",
       "      <td>1.800000e+01</td>\n",
       "    </tr>\n",
       "    <tr>\n",
       "      <th>75%</th>\n",
       "      <td>4.129133e+01</td>\n",
       "      <td>-8.029603e+01</td>\n",
       "      <td>4.800000e+00</td>\n",
       "      <td>4.400000e+01</td>\n",
       "    </tr>\n",
       "    <tr>\n",
       "      <th>max</th>\n",
       "      <td>8.785652e+01</td>\n",
       "      <td>1.800000e+02</td>\n",
       "      <td>5.000000e+00</td>\n",
       "      <td>9.998000e+03</td>\n",
       "    </tr>\n",
       "  </tbody>\n",
       "</table>\n",
       "</div>"
      ],
      "text/plain": [
       "           latitude     longitude    avg_rating  num_of_reviews\n",
       "count  2.998428e+06  2.998428e+06  2.998428e+06    2.998428e+06\n",
       "mean   3.742927e+01 -9.234204e+01  4.303666e+00    4.384394e+01\n",
       "std    5.425494e+00  1.635375e+01  7.119273e-01    1.435629e+02\n",
       "min   -4.092931e+01 -1.788071e+02  1.000000e+00    1.000000e+00\n",
       "25%    3.370949e+01 -9.925989e+01  4.000000e+00    7.000000e+00\n",
       "50%    3.827702e+01 -8.759823e+01  4.500000e+00    1.800000e+01\n",
       "75%    4.129133e+01 -8.029603e+01  4.800000e+00    4.400000e+01\n",
       "max    8.785652e+01  1.800000e+02  5.000000e+00    9.998000e+03"
      ]
     },
     "execution_count": 15,
     "metadata": {},
     "output_type": "execute_result"
    }
   ],
   "source": [
    "df_metadata.describe()"
   ]
  },
  {
   "cell_type": "markdown",
   "metadata": {},
   "source": [
    "- count: número de observaciones no nulas.\n",
    "- mean: media aritmética de los valores.\n",
    "- std: desviación estándar.\n",
    "- min: valor mínimo.\n",
    "- 25% (percentil 25): valor que separa el 25% más bajo de los datos.\n",
    "- 50% (percentil 50 o mediana): valor que separa el 50% de los datos, es decir, el valor medio.\n",
    "- 75% (percentil 75): valor que separa el 75% más bajo de los datos.\n",
    "- max: valor máximo."
   ]
  },
  {
   "cell_type": "markdown",
   "metadata": {},
   "source": [
    "**Mapa de correlaciones de las variables numéricas:**"
   ]
  },
  {
   "cell_type": "code",
   "execution_count": 17,
   "metadata": {},
   "outputs": [
    {
     "data": {
      "image/png": "[encoded data removed]",
      "text/plain": [
       "<Figure size 1000x800 with 2 Axes>"
      ]
     },
     "metadata": {},
     "output_type": "display_data"
    }
   ],
   "source": [
    "# Seleccionamos solo las columnas numéricas:\n",
    "df_numericas = df_metadata.select_dtypes(include='number')\n",
    "\n",
    "# Calculamos la matriz de correlación:\n",
    "correlaciones = df_numericas.corr()\n",
    "\n",
    "# Configuramos el mapa de calor con colores rojizos:\n",
    "sns.set(style=\"white\")\n",
    "plt.figure(figsize=(10, 8))\n",
    "sns.heatmap(correlaciones, annot=True, cmap='Reds', fmt='.2f', linewidths=.5)\n",
    "plt.title('Mapa de Correlaciones (Variables Numéricas)')\n",
    "plt.show()"
   ]
  },
  {
   "cell_type": "markdown",
   "metadata": {},
   "source": [
    "No encontramos ninguna fuerte correlación."
   ]
  },
  {
   "cell_type": "markdown",
   "metadata": {},
   "source": [
    "**Buscamos valores atípicos (outliers):**"
   ]
  },
  {
   "cell_type": "code",
   "execution_count": 19,
   "metadata": {},
   "outputs": [
    {
     "data": {
      "image/png": "[encoded data removed]",
      "text/plain": [
       "<Figure size 1200x800 with 1 Axes>"
      ]
     },
     "metadata": {},
     "output_type": "display_data"
    }
   ],
   "source": [
    "# Creamos un gráfico de boxplot para identificar outliers en todas las columnas:\n",
    "sns.set(style=\"whitegrid\")\n",
    "plt.figure(figsize=(12, 8))\n",
    "sns.boxplot(data=df_metadata)\n",
    "plt.xlabel('Columnas')\n",
    "plt.title('Boxplot de Outliers')\n",
    "plt.show()"
   ]
  },
  {
   "cell_type": "markdown",
   "metadata": {},
   "source": [
    "No encontramos ningún valor atípico."
   ]
  },
  {
   "cell_type": "markdown",
   "metadata": {},
   "source": [
    "**Los negocios con mayor cantidad de reseñas:**"
   ]
  },
  {
   "cell_type": "code",
   "execution_count": 32,
   "metadata": {},
   "outputs": [
    {
     "data": {
      "text/html": [
       "<div>\n",
       "<style scoped>\n",
       "    .dataframe tbody tr th:only-of-type {\n",
       "        vertical-align: middle;\n",
       "    }\n",
       "\n",
       "    .dataframe tbody tr th {\n",
       "        vertical-align: top;\n",
       "    }\n",
       "\n",
       "    .dataframe thead th {\n",
       "        text-align: right;\n",
       "    }\n",
       "</style>\n",
       "<table border=\"1\" class=\"dataframe\">\n",
       "  <thead>\n",
       "    <tr style=\"text-align: right;\">\n",
       "      <th></th>\n",
       "      <th>name</th>\n",
       "      <th>gmap_id</th>\n",
       "      <th>num_of_reviews</th>\n",
       "    </tr>\n",
       "  </thead>\n",
       "  <tbody>\n",
       "    <tr>\n",
       "      <th>0</th>\n",
       "      <td>Katz's Delicatessen</td>\n",
       "      <td>0x89c2598f7ff4aa09:0x313547e757cb8cea</td>\n",
       "      <td>9998</td>\n",
       "    </tr>\n",
       "    <tr>\n",
       "      <th>1</th>\n",
       "      <td>The Old Mill Restaurant</td>\n",
       "      <td>0x885bff0120ec937d:0x14e7858019748c5f</td>\n",
       "      <td>9998</td>\n",
       "    </tr>\n",
       "    <tr>\n",
       "      <th>2</th>\n",
       "      <td>M&amp;M'S World</td>\n",
       "      <td>0x89c258560aeef31d:0x42b8e1082d336c3f</td>\n",
       "      <td>9998</td>\n",
       "    </tr>\n",
       "    <tr>\n",
       "      <th>3</th>\n",
       "      <td>Forest Park</td>\n",
       "      <td>0x87d8b5469178c4c9:0x9d27c5026db294aa</td>\n",
       "      <td>9998</td>\n",
       "    </tr>\n",
       "    <tr>\n",
       "      <th>4</th>\n",
       "      <td>Cafe Du Monde French Market</td>\n",
       "      <td>0x8620a5e09b473e4d:0xd68fe7e8e35b6f7</td>\n",
       "      <td>9998</td>\n",
       "    </tr>\n",
       "    <tr>\n",
       "      <th>5</th>\n",
       "      <td>Fenway Park</td>\n",
       "      <td>0x89e379f63f253f6f:0xa2800dcb647a5504</td>\n",
       "      <td>9998</td>\n",
       "    </tr>\n",
       "    <tr>\n",
       "      <th>6</th>\n",
       "      <td>Lombard Street</td>\n",
       "      <td>0x808580e66bb70f81:0x10d3ce0ac1ec1299</td>\n",
       "      <td>9998</td>\n",
       "    </tr>\n",
       "    <tr>\n",
       "      <th>7</th>\n",
       "      <td>Santa Monica Pier</td>\n",
       "      <td>0x80c2a4d74d5ea79b:0xcd9a111aced18f4d</td>\n",
       "      <td>9998</td>\n",
       "    </tr>\n",
       "    <tr>\n",
       "      <th>8</th>\n",
       "      <td>Houston Zoo</td>\n",
       "      <td>0x8640bf8610513213:0x61f408cc441069f8</td>\n",
       "      <td>9998</td>\n",
       "    </tr>\n",
       "    <tr>\n",
       "      <th>9</th>\n",
       "      <td>The Art Institute of Chicago</td>\n",
       "      <td>0x880e2ca3e2d94695:0x4829f3cc9ca2d0de</td>\n",
       "      <td>9998</td>\n",
       "    </tr>\n",
       "  </tbody>\n",
       "</table>\n",
       "</div>"
      ],
      "text/plain": [
       "                           name                                gmap_id  \\\n",
       "0           Katz's Delicatessen  0x89c2598f7ff4aa09:0x313547e757cb8cea   \n",
       "1       The Old Mill Restaurant  0x885bff0120ec937d:0x14e7858019748c5f   \n",
       "2                   M&M'S World  0x89c258560aeef31d:0x42b8e1082d336c3f   \n",
       "3                   Forest Park  0x87d8b5469178c4c9:0x9d27c5026db294aa   \n",
       "4   Cafe Du Monde French Market   0x8620a5e09b473e4d:0xd68fe7e8e35b6f7   \n",
       "5                   Fenway Park  0x89e379f63f253f6f:0xa2800dcb647a5504   \n",
       "6                Lombard Street  0x808580e66bb70f81:0x10d3ce0ac1ec1299   \n",
       "7             Santa Monica Pier  0x80c2a4d74d5ea79b:0xcd9a111aced18f4d   \n",
       "8                   Houston Zoo  0x8640bf8610513213:0x61f408cc441069f8   \n",
       "9  The Art Institute of Chicago  0x880e2ca3e2d94695:0x4829f3cc9ca2d0de   \n",
       "\n",
       "   num_of_reviews  \n",
       "0            9998  \n",
       "1            9998  \n",
       "2            9998  \n",
       "3            9998  \n",
       "4            9998  \n",
       "5            9998  \n",
       "6            9998  \n",
       "7            9998  \n",
       "8            9998  \n",
       "9            9998  "
      ]
     },
     "execution_count": 32,
     "metadata": {},
     "output_type": "execute_result"
    }
   ],
   "source": [
    "# Filtramos los 10 negocios con mayor cantidad de reseñas:\n",
    "df_mas_reseñas = df_metadata.sort_values(by=\"num_of_reviews\", ascending=False)[[\"name\", \"gmap_id\", \"num_of_reviews\"]].head(10).reset_index(drop=True)\n",
    "df_mas_reseñas"
   ]
  },
  {
   "cell_type": "code",
   "execution_count": 30,
   "metadata": {},
   "outputs": [
    {
     "data": {
      "text/plain": [
       "34"
      ]
     },
     "execution_count": 30,
     "metadata": {},
     "output_type": "execute_result"
    }
   ],
   "source": [
    "# Revisamos cuántos negocios poseen 9998 reseñas:\n",
    "len(df_metadata[df_metadata[\"num_of_reviews\"] == 9998])"
   ]
  },
  {
   "cell_type": "markdown",
   "metadata": {},
   "source": [
    "Vemos que son 34 los negocios que poseen más reseñas realizadas, contando con 9998 reseñas cada uno."
   ]
  },
  {
   "cell_type": "markdown",
   "metadata": {},
   "source": [
    "**Los negocios con menor cantidad de reseñas:**"
   ]
  },
  {
   "cell_type": "code",
   "execution_count": 34,
   "metadata": {},
   "outputs": [
    {
     "data": {
      "text/html": [
       "<div>\n",
       "<style scoped>\n",
       "    .dataframe tbody tr th:only-of-type {\n",
       "        vertical-align: middle;\n",
       "    }\n",
       "\n",
       "    .dataframe tbody tr th {\n",
       "        vertical-align: top;\n",
       "    }\n",
       "\n",
       "    .dataframe thead th {\n",
       "        text-align: right;\n",
       "    }\n",
       "</style>\n",
       "<table border=\"1\" class=\"dataframe\">\n",
       "  <thead>\n",
       "    <tr style=\"text-align: right;\">\n",
       "      <th></th>\n",
       "      <th>name</th>\n",
       "      <th>gmap_id</th>\n",
       "      <th>num_of_reviews</th>\n",
       "    </tr>\n",
       "  </thead>\n",
       "  <tbody>\n",
       "    <tr>\n",
       "      <th>0</th>\n",
       "      <td>Varano Kenneth J DO</td>\n",
       "      <td>0x89c45ea72348c241:0x1944e9f5eee87ff</td>\n",
       "      <td>1</td>\n",
       "    </tr>\n",
       "    <tr>\n",
       "      <th>1</th>\n",
       "      <td>McQuarries Pond</td>\n",
       "      <td>0x882d7ddf450e41d1:0x445015648badcd78</td>\n",
       "      <td>1</td>\n",
       "    </tr>\n",
       "    <tr>\n",
       "      <th>2</th>\n",
       "      <td>Woodbridge CAI Estates</td>\n",
       "      <td>0x8640e0b2f67a19f5:0x93243bc931996d06</td>\n",
       "      <td>1</td>\n",
       "    </tr>\n",
       "    <tr>\n",
       "      <th>3</th>\n",
       "      <td>Sage Construction</td>\n",
       "      <td>0x88236543c8aa8987:0xd3f9a310bd577e5d</td>\n",
       "      <td>1</td>\n",
       "    </tr>\n",
       "    <tr>\n",
       "      <th>4</th>\n",
       "      <td>Nathan D Maier Consulting Engineer</td>\n",
       "      <td>0x864e9f9518307cd3:0x8e32dec0b3190ec6</td>\n",
       "      <td>1</td>\n",
       "    </tr>\n",
       "    <tr>\n",
       "      <th>5</th>\n",
       "      <td>Agora Management Inc</td>\n",
       "      <td>0x8640c1ff64c00001:0xad5119f50e61b4a1</td>\n",
       "      <td>1</td>\n",
       "    </tr>\n",
       "    <tr>\n",
       "      <th>6</th>\n",
       "      <td>Rooster In A Top Hat</td>\n",
       "      <td>0x880a5837b0729fe3:0x21e617be8eaf1ce9</td>\n",
       "      <td>1</td>\n",
       "    </tr>\n",
       "    <tr>\n",
       "      <th>7</th>\n",
       "      <td>SCALE</td>\n",
       "      <td>0x8084bfec2e112393:0x2cb404d3aeaa2dad</td>\n",
       "      <td>1</td>\n",
       "    </tr>\n",
       "    <tr>\n",
       "      <th>8</th>\n",
       "      <td>Darlington Creek by Maronda Homes</td>\n",
       "      <td>0x8841988299e70611:0x9916810f6145221b</td>\n",
       "      <td>1</td>\n",
       "    </tr>\n",
       "    <tr>\n",
       "      <th>9</th>\n",
       "      <td>New Home Family Worship Center</td>\n",
       "      <td>0x889e017d6157cdd9:0x17c18214d23a24ec</td>\n",
       "      <td>1</td>\n",
       "    </tr>\n",
       "  </tbody>\n",
       "</table>\n",
       "</div>"
      ],
      "text/plain": [
       "                                 name                                gmap_id  \\\n",
       "0                 Varano Kenneth J DO   0x89c45ea72348c241:0x1944e9f5eee87ff   \n",
       "1                     McQuarries Pond  0x882d7ddf450e41d1:0x445015648badcd78   \n",
       "2              Woodbridge CAI Estates  0x8640e0b2f67a19f5:0x93243bc931996d06   \n",
       "3                   Sage Construction  0x88236543c8aa8987:0xd3f9a310bd577e5d   \n",
       "4  Nathan D Maier Consulting Engineer  0x864e9f9518307cd3:0x8e32dec0b3190ec6   \n",
       "5                Agora Management Inc  0x8640c1ff64c00001:0xad5119f50e61b4a1   \n",
       "6                Rooster In A Top Hat  0x880a5837b0729fe3:0x21e617be8eaf1ce9   \n",
       "7                               SCALE  0x8084bfec2e112393:0x2cb404d3aeaa2dad   \n",
       "8   Darlington Creek by Maronda Homes  0x8841988299e70611:0x9916810f6145221b   \n",
       "9      New Home Family Worship Center  0x889e017d6157cdd9:0x17c18214d23a24ec   \n",
       "\n",
       "   num_of_reviews  \n",
       "0               1  \n",
       "1               1  \n",
       "2               1  \n",
       "3               1  \n",
       "4               1  \n",
       "5               1  \n",
       "6               1  \n",
       "7               1  \n",
       "8               1  \n",
       "9               1  "
      ]
     },
     "execution_count": 34,
     "metadata": {},
     "output_type": "execute_result"
    }
   ],
   "source": [
    "# Filtramos los 10 negocios con menor cantidad de reseñas:\n",
    "df_mas_reseñas = df_metadata.sort_values(by=\"num_of_reviews\", ascending=True)[[\"name\", \"gmap_id\", \"num_of_reviews\"]].head(10).reset_index(drop=True)\n",
    "df_mas_reseñas"
   ]
  },
  {
   "cell_type": "code",
   "execution_count": 36,
   "metadata": {},
   "outputs": [
    {
     "data": {
      "text/plain": [
       "156824"
      ]
     },
     "execution_count": 36,
     "metadata": {},
     "output_type": "execute_result"
    }
   ],
   "source": [
    "# Revisamos cuántos negocios poseen solo una reseña:\n",
    "len(df_metadata[df_metadata[\"num_of_reviews\"] == 1])"
   ]
  },
  {
   "cell_type": "markdown",
   "metadata": {},
   "source": [
    "Los negocios que poseen menos reseñas son 156824, cont solo una reseña cada uno."
   ]
  },
  {
   "cell_type": "markdown",
   "metadata": {},
   "source": [
    "**Distribución de negocios segun calificación promedio (avg_rating):**"
   ]
  },
  {
   "cell_type": "code",
   "execution_count": 53,
   "metadata": {},
   "outputs": [
    {
     "data": {
      "text/html": [
       "<div>\n",
       "<style scoped>\n",
       "    .dataframe tbody tr th:only-of-type {\n",
       "        vertical-align: middle;\n",
       "    }\n",
       "\n",
       "    .dataframe tbody tr th {\n",
       "        vertical-align: top;\n",
       "    }\n",
       "\n",
       "    .dataframe thead th {\n",
       "        text-align: right;\n",
       "    }\n",
       "</style>\n",
       "<table border=\"1\" class=\"dataframe\">\n",
       "  <thead>\n",
       "    <tr style=\"text-align: right;\">\n",
       "      <th></th>\n",
       "      <th>Categoria</th>\n",
       "      <th>Recuento</th>\n",
       "    </tr>\n",
       "  </thead>\n",
       "  <tbody>\n",
       "    <tr>\n",
       "      <th>0</th>\n",
       "      <td>positiva</td>\n",
       "      <td>2333526</td>\n",
       "    </tr>\n",
       "    <tr>\n",
       "      <th>1</th>\n",
       "      <td>neutral</td>\n",
       "      <td>512649</td>\n",
       "    </tr>\n",
       "    <tr>\n",
       "      <th>2</th>\n",
       "      <td>negativa</td>\n",
       "      <td>152253</td>\n",
       "    </tr>\n",
       "  </tbody>\n",
       "</table>\n",
       "</div>"
      ],
      "text/plain": [
       "  Categoria  Recuento\n",
       "0  positiva   2333526\n",
       "1   neutral    512649\n",
       "2  negativa    152253"
      ]
     },
     "execution_count": 53,
     "metadata": {},
     "output_type": "execute_result"
    }
   ],
   "source": [
    "# Creamos una nueva columna \"categoria\" en base a las calificaciones promedio:\n",
    "df_metadata['categoria'] = pd.cut(df_metadata['avg_rating'], bins=[-float('inf'), 3, 4, float('inf')], labels=['negativa', 'neutral', 'positiva'], right=False)\n",
    "\n",
    "# Contamos la cantidad de registros en cada categoría:\n",
    "df_resultado = pd.DataFrame(df_metadata['categoria'].value_counts()).reset_index()\n",
    "df_resultado.columns = ['Categoria', 'Recuento']\n",
    "\n",
    "df_resultado"
   ]
  },
  {
   "cell_type": "code",
   "execution_count": 58,
   "metadata": {},
   "outputs": [
    {
     "data": {
      "image/png": "[encoded data removed]",
      "text/plain": [
       "<Figure size 800x800 with 1 Axes>"
      ]
     },
     "metadata": {},
     "output_type": "display_data"
    }
   ],
   "source": [
    "# Creamos un gráfico de torta:\n",
    "colores = ['gold', 'darkorange', 'darkred']\n",
    "plt.figure(figsize=(8, 8))\n",
    "plt.pie(df_resultado['Recuento'], labels=df_resultado['Categoria'], autopct='%1.1f%%', colors=colores, startangle=140)\n",
    "plt.title('Distribución de Calificaciones Promedio')\n",
    "plt.show()"
   ]
  },
  {
   "cell_type": "markdown",
   "metadata": {},
   "source": [
    "Podemos concluir que la mayoría de los negocios poseen una calificación promedio positiva (mayor o igual a 4) contando con el 77.8% de los registros, seguido de los negocios con una calificación promedio neutral (mayor o igual a 3 y menor a 4) con un 17.1%, y por último aquellos que poseen una calificación promedio neutral (menor o igual a 2) con 5.1%."
   ]
  },
  {
   "cell_type": "markdown",
   "metadata": {},
   "source": [
    "<h3>Conclusiones:</h3>\n",
    "\n",
    "El directorio \"metadata-sitios\" contiene la información sobre los negocios físicos de Estados Unidos. Se da a conocer el nombre del negocio, dirección, horarios de apertura, categroría/s del negocio, opciones de servicio, etcétera. También poseemos diversos datos de geolocalización, ademas de su calificación promedio.\n",
    "\n",
    "Lo primero que llevamos a cabo fue la fusión de todos estos archivos JSON dentro del directorio, en un nuevo archivo llamado \"metadata_sitios.csv\" de 3.025.011 registros.\n",
    "\n",
    "La información se encuentra dividida en 15 columnas de las cuales 4 son de tipo numérico. En este dataset no encontramos registros en blanco, pero si habían presentes 26583 registros duplicados (0.88% de los registros totales) los cuales decidimos eliminar para continuar con un análisis más exacto. Las columnas \"description\" y \"price\" tienen más de un 90% de valores nulos, seguido de las columnas \"hours\", \"MISC\" y \"state\" con un cuarto de sus registros como valores nulos. Por último tenemos a \"relative_results\", \"adress\" y \"category\" con una menor cantidad de nulos, siendo \"categroy\" la que podría representar mayor problema. No se encontraron valores atípicos, ni una alta correlación entre las variables numéricas."
   ]
  }
 ],
 "metadata": {
  "kernelspec": {
   "display_name": "Python 3",
   "language": "python",
   "name": "python3"
  },
  "language_info": {
   "codemirror_mode": {
    "name": "ipython",
    "version": 3
   },
   "file_extension": ".py",
   "mimetype": "text/x-python",
   "name": "python",
   "nbconvert_exporter": "python",
   "pygments_lexer": "ipython3",
   "version": "3.12.1"
  }
 },
 "nbformat": 4,
 "nbformat_minor": 2
}
