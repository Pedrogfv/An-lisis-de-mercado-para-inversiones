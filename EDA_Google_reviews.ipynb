{
 "cells": [
  {
   "cell_type": "code",
   "execution_count": 2,
   "metadata": {},
   "outputs": [],
   "source": [
    "import os\n",
    "import pandas as pd\n",
    "import matplotlib.pyplot as plt\n",
    "import seaborn as sns"
   ]
  },
  {
   "cell_type": "markdown",
   "metadata": {},
   "source": [
    "<h1>EDA reviews-estados</h1>\n",
    "Nuestro Dataset de Google Maps está dividido en dos directorios: \"reviews-estados\" (posee datos sobre las reviews de cada estado de Estados Unidos) y \"metadata-sitios\" (posee datos sobre cada negocio)."
   ]
  },
  {
   "cell_type": "markdown",
   "metadata": {},
   "source": [
    "<h3>Análisis del directorio \"reviews-estados\"</h3>\n",
    "Este posee varias carpetas, una para cada Estado, cuyos datos están divividios en distintos archivos JSON"
   ]
  },
  {
   "cell_type": "markdown",
   "metadata": {},
   "source": [
    "**Cargamos los arhcivos JSON de cada estado y los unificamos, para luego guardarlos como CSV:**"
   ]
  },
  {
   "cell_type": "code",
   "execution_count": 2,
   "metadata": {},
   "outputs": [],
   "source": [
    "# Ruta de la carpeta mayor \"reviews-estados\":\n",
    "directorio = r\"..\\Datasets\\Google Maps\\reviews-estados\"\n",
    "\n",
    "# Obtenemos la lista de carpetas en la carpeta mayor:\n",
    "carpeta_mayor = os.listdir(directorio)\n",
    "\n",
    "for carpeta in carpeta_mayor:\n",
    "\n",
    "    # Obtenemos la lista de archivos en la carpeta:\n",
    "    archivos = os.listdir(f\"../Datasets/Google Maps/reviews-estados/{carpeta}\")\n",
    "\n",
    "    # Lista para almacenar los DataFrames de los JSON individuales:\n",
    "    dataframes = []\n",
    "\n",
    "    # Iteramos sobre los archivos JSON:\n",
    "    for archivo in archivos:\n",
    "    \n",
    "        # Verificamos si el archivo es un archivo JSON:\n",
    "        if archivo.endswith(\".json\"):\n",
    "\n",
    "            # Construimos la ruta completa al archivo:\n",
    "            ruta_completa = os.path.join(directorio, carpeta, archivo)\n",
    "            \n",
    "            # Cargamos el archivo JSON como DataFrame:\n",
    "            df = pd.read_json(ruta_completa, lines=True)\n",
    "            \n",
    "            # Agregamos el DataFrame a la lista:\n",
    "            dataframes.append(df)\n",
    "\n",
    "    # Concatenamos todos los DataFrames en uno solo\n",
    "    df_completo = pd.concat(dataframes, ignore_index=True)\n",
    "\n",
    "    # Nombramos el nuevo DataFrame con el nombre de la carpeta:\n",
    "    nombre_carpeta = os.path.basename(carpeta)\n",
    "    nombre_carpeta = nombre_carpeta.replace(\"-\", \"_\")  # Reemplazamos guiones por guiones bajos\n",
    "\n",
    "    # Guardado como CSV\n",
    "    df_completo.to_csv(f\"../Datasets/Google Maps/reviews_csv/{nombre_carpeta}.csv\", index=False)"
   ]
  },
  {
   "cell_type": "markdown",
   "metadata": {},
   "source": [
    "**Debido al extenso tamaño de los archivos, cargaremos unicamente el CSV de New York como muestra de datos:**"
   ]
  },
  {
   "cell_type": "code",
   "execution_count": 3,
   "metadata": {},
   "outputs": [
    {
     "data": {
      "text/html": [
       "<div>\n",
       "<style scoped>\n",
       "    .dataframe tbody tr th:only-of-type {\n",
       "        vertical-align: middle;\n",
       "    }\n",
       "\n",
       "    .dataframe tbody tr th {\n",
       "        vertical-align: top;\n",
       "    }\n",
       "\n",
       "    .dataframe thead th {\n",
       "        text-align: right;\n",
       "    }\n",
       "</style>\n",
       "<table border=\"1\" class=\"dataframe\">\n",
       "  <thead>\n",
       "    <tr style=\"text-align: right;\">\n",
       "      <th></th>\n",
       "      <th>user_id</th>\n",
       "      <th>name</th>\n",
       "      <th>time</th>\n",
       "      <th>rating</th>\n",
       "      <th>text</th>\n",
       "      <th>pics</th>\n",
       "      <th>resp</th>\n",
       "      <th>gmap_id</th>\n",
       "    </tr>\n",
       "  </thead>\n",
       "  <tbody>\n",
       "    <tr>\n",
       "      <th>0</th>\n",
       "      <td>1.137221e+20</td>\n",
       "      <td>Alvin Martinez</td>\n",
       "      <td>1603494795361</td>\n",
       "      <td>5</td>\n",
       "      <td>I'm late to posting this but this store especi...</td>\n",
       "      <td>[{'url': ['https://lh5.googleusercontent.com/p...</td>\n",
       "      <td>NaN</td>\n",
       "      <td>0x89c25fc9494dce47:0x6d63c807b59a55</td>\n",
       "    </tr>\n",
       "    <tr>\n",
       "      <th>1</th>\n",
       "      <td>1.072934e+20</td>\n",
       "      <td>Johnnie Jackson</td>\n",
       "      <td>1620157037403</td>\n",
       "      <td>1</td>\n",
       "      <td>Very dissatisfied I did not get my phone the p...</td>\n",
       "      <td>NaN</td>\n",
       "      <td>{'time': 1620268360920, 'text': 'We pride ours...</td>\n",
       "      <td>0x89c25fc9494dce47:0x6d63c807b59a55</td>\n",
       "    </tr>\n",
       "    <tr>\n",
       "      <th>2</th>\n",
       "      <td>1.003786e+20</td>\n",
       "      <td>Manie Blazer</td>\n",
       "      <td>1597431662039</td>\n",
       "      <td>5</td>\n",
       "      <td>Excellent very well done with professional car...</td>\n",
       "      <td>NaN</td>\n",
       "      <td>NaN</td>\n",
       "      <td>0x89c25fc9494dce47:0x6d63c807b59a55</td>\n",
       "    </tr>\n",
       "    <tr>\n",
       "      <th>3</th>\n",
       "      <td>1.149982e+20</td>\n",
       "      <td>Fashion Fiinds</td>\n",
       "      <td>1543773862044</td>\n",
       "      <td>5</td>\n",
       "      <td>Basing my review strictly on the service I rec...</td>\n",
       "      <td>NaN</td>\n",
       "      <td>{'time': 1543855317372, 'text': 'Thanks for th...</td>\n",
       "      <td>0x89c25fc9494dce47:0x6d63c807b59a55</td>\n",
       "    </tr>\n",
       "    <tr>\n",
       "      <th>4</th>\n",
       "      <td>1.171782e+20</td>\n",
       "      <td>Andres Rieloff</td>\n",
       "      <td>1597279097718</td>\n",
       "      <td>1</td>\n",
       "      <td>Bad! Disorganized. I'm being totally honest. I...</td>\n",
       "      <td>NaN</td>\n",
       "      <td>NaN</td>\n",
       "      <td>0x89c25fc9494dce47:0x6d63c807b59a55</td>\n",
       "    </tr>\n",
       "  </tbody>\n",
       "</table>\n",
       "</div>"
      ],
      "text/plain": [
       "        user_id             name           time  rating  \\\n",
       "0  1.137221e+20   Alvin Martinez  1603494795361       5   \n",
       "1  1.072934e+20  Johnnie Jackson  1620157037403       1   \n",
       "2  1.003786e+20     Manie Blazer  1597431662039       5   \n",
       "3  1.149982e+20   Fashion Fiinds  1543773862044       5   \n",
       "4  1.171782e+20   Andres Rieloff  1597279097718       1   \n",
       "\n",
       "                                                text  \\\n",
       "0  I'm late to posting this but this store especi...   \n",
       "1  Very dissatisfied I did not get my phone the p...   \n",
       "2  Excellent very well done with professional car...   \n",
       "3  Basing my review strictly on the service I rec...   \n",
       "4  Bad! Disorganized. I'm being totally honest. I...   \n",
       "\n",
       "                                                pics  \\\n",
       "0  [{'url': ['https://lh5.googleusercontent.com/p...   \n",
       "1                                                NaN   \n",
       "2                                                NaN   \n",
       "3                                                NaN   \n",
       "4                                                NaN   \n",
       "\n",
       "                                                resp  \\\n",
       "0                                                NaN   \n",
       "1  {'time': 1620268360920, 'text': 'We pride ours...   \n",
       "2                                                NaN   \n",
       "3  {'time': 1543855317372, 'text': 'Thanks for th...   \n",
       "4                                                NaN   \n",
       "\n",
       "                               gmap_id  \n",
       "0  0x89c25fc9494dce47:0x6d63c807b59a55  \n",
       "1  0x89c25fc9494dce47:0x6d63c807b59a55  \n",
       "2  0x89c25fc9494dce47:0x6d63c807b59a55  \n",
       "3  0x89c25fc9494dce47:0x6d63c807b59a55  \n",
       "4  0x89c25fc9494dce47:0x6d63c807b59a55  "
      ]
     },
     "execution_count": 3,
     "metadata": {},
     "output_type": "execute_result"
    }
   ],
   "source": [
    "df_muestra = pd.read_csv(r\"../Datasets/Google Maps/reviews_csv/review_New_York.csv\")\n",
    "df_muestra.head()"
   ]
  },
  {
   "cell_type": "markdown",
   "metadata": {},
   "source": [
    "**Descripción de cada columna:**"
   ]
  },
  {
   "cell_type": "code",
   "execution_count": 4,
   "metadata": {},
   "outputs": [
    {
     "data": {
      "text/plain": [
       "user_id    float64\n",
       "name        object\n",
       "time         int64\n",
       "rating       int64\n",
       "text        object\n",
       "pics        object\n",
       "resp        object\n",
       "gmap_id     object\n",
       "dtype: object"
      ]
     },
     "execution_count": 4,
     "metadata": {},
     "output_type": "execute_result"
    }
   ],
   "source": [
    "df_muestra.dtypes"
   ]
  },
  {
   "cell_type": "markdown",
   "metadata": {},
   "source": [
    "Las columnas que presenta nuestro DataFrame son las siguientes:\n",
    "- user_id: tipo float64, ID del usuario que realiza la reseña.\n",
    "- name: tipo object, nombre del usuario que realiza la reseña.\n",
    "- time: tipo int64, tiempo en formato UNIX.\n",
    "- rating: tipo int64, calificación del negocio del 1(peor) al 5(mejor).\n",
    "- text: tipo object, texto de la reseña.\n",
    "- pics: tipo object, imágen de la reseña.\n",
    "- resp: tipo object, respuesta del negocio a la reseña del usuario, incluyendo tiempo en formato UNIX y texto de la reseña.\n",
    "- gmap_id: tipo object, ID del negocio."
   ]
  },
  {
   "cell_type": "markdown",
   "metadata": {},
   "source": [
    "**Revisamos si hay registros en blanco:**"
   ]
  },
  {
   "cell_type": "code",
   "execution_count": 5,
   "metadata": {},
   "outputs": [
    {
     "data": {
      "text/plain": [
       "0"
      ]
     },
     "execution_count": 5,
     "metadata": {},
     "output_type": "execute_result"
    }
   ],
   "source": [
    "len(df_muestra[df_muestra.isnull().all(axis=1)])"
   ]
  },
  {
   "cell_type": "markdown",
   "metadata": {},
   "source": [
    "No hay registros (filas completas) en blanco."
   ]
  },
  {
   "cell_type": "markdown",
   "metadata": {},
   "source": [
    "**Revisamos la existencia de registros duplicados:**"
   ]
  },
  {
   "cell_type": "code",
   "execution_count": 6,
   "metadata": {},
   "outputs": [
    {
     "data": {
      "text/plain": [
       "59337"
      ]
     },
     "execution_count": 6,
     "metadata": {},
     "output_type": "execute_result"
    }
   ],
   "source": [
    "df_muestra.duplicated().sum()"
   ]
  },
  {
   "cell_type": "markdown",
   "metadata": {},
   "source": [
    "Hay 59337 registros duplicados en el DataFrame."
   ]
  },
  {
   "cell_type": "code",
   "execution_count": 7,
   "metadata": {},
   "outputs": [
    {
     "name": "stdout",
     "output_type": "stream",
     "text": [
      "Cantidad de registros: 2700000\n",
      "Cantidad de registros luego del filtro: 2640663\n"
     ]
    }
   ],
   "source": [
    "# Eliminamos los duplicados:\n",
    "print(f\"Cantidad de registros: {len(df_muestra)}\")\n",
    "df_muestra.drop_duplicates(inplace=True)\n",
    "print(f\"Cantidad de registros luego del filtro: {len(df_muestra)}\")\n"
   ]
  },
  {
   "cell_type": "markdown",
   "metadata": {},
   "source": [
    "**Chequeamos la cantidad de valores nulos en cada columna:**"
   ]
  },
  {
   "cell_type": "code",
   "execution_count": 8,
   "metadata": {},
   "outputs": [
    {
     "data": {
      "image/png": "[encoded data removed]",
      "text/plain": [
       "<Figure size 1000x600 with 1 Axes>"
      ]
     },
     "metadata": {},
     "output_type": "display_data"
    }
   ],
   "source": [
    "porcentaje_nulos = (df_muestra.isnull().sum() / len(df_muestra)) * 100\n",
    "\n",
    "plt.figure(figsize=(10, 6))\n",
    "ax = plt.subplot()\n",
    "porcentaje_nulos.plot(kind=\"bar\", color=\"skyblue\", ax=ax)\n",
    "\n",
    "for i, v in enumerate(porcentaje_nulos): # Agrega el porcentaje de nulos en cada columna\n",
    "    ax.text(i, v + 1, f\"{v:.2f}%\", ha=\"center\", va=\"bottom\", fontsize=10, color=\"black\")\n",
    "\n",
    "plt.title(\"Porcentaje de Valores Nulos por Columna\", fontsize=16)\n",
    "plt.xlabel(\"Columnas\", fontsize=14)\n",
    "plt.ylabel(\"Porcentaje de Nulos\", fontsize=14)\n",
    "plt.show()"
   ]
  },
  {
   "cell_type": "markdown",
   "metadata": {},
   "source": [
    "Las columnas que poseen valores nulos son las siguientes:\n",
    "- text: 43.90% de valores nulos, cerca de la mitad de las reseñas no poseen texto.\n",
    "- pics: 96.34% de valores nulos, la gran mayoría de las reseñas no poseen una foto que acompañe.\n",
    "- resp: 90.24% de valores nulos, menos de un décimo de las reseñas cuenta con una respuesta por parte del negocio.\n",
    "\n",
    "La presencia de valores nulos en estas columnas es válida y no representa un problema."
   ]
  },
  {
   "cell_type": "markdown",
   "metadata": {},
   "source": [
    "**Visualizamos métricas descriptivas de las columnas numéricas:**"
   ]
  },
  {
   "cell_type": "code",
   "execution_count": 9,
   "metadata": {},
   "outputs": [
    {
     "data": {
      "text/html": [
       "<div>\n",
       "<style scoped>\n",
       "    .dataframe tbody tr th:only-of-type {\n",
       "        vertical-align: middle;\n",
       "    }\n",
       "\n",
       "    .dataframe tbody tr th {\n",
       "        vertical-align: top;\n",
       "    }\n",
       "\n",
       "    .dataframe thead th {\n",
       "        text-align: right;\n",
       "    }\n",
       "</style>\n",
       "<table border=\"1\" class=\"dataframe\">\n",
       "  <thead>\n",
       "    <tr style=\"text-align: right;\">\n",
       "      <th></th>\n",
       "      <th>user_id</th>\n",
       "      <th>time</th>\n",
       "      <th>rating</th>\n",
       "    </tr>\n",
       "  </thead>\n",
       "  <tbody>\n",
       "    <tr>\n",
       "      <th>count</th>\n",
       "      <td>2.640663e+06</td>\n",
       "      <td>2.640663e+06</td>\n",
       "      <td>2.640663e+06</td>\n",
       "    </tr>\n",
       "    <tr>\n",
       "      <th>mean</th>\n",
       "      <td>1.092969e+20</td>\n",
       "      <td>1.551473e+12</td>\n",
       "      <td>4.303740e+00</td>\n",
       "    </tr>\n",
       "    <tr>\n",
       "      <th>std</th>\n",
       "      <td>5.265431e+18</td>\n",
       "      <td>4.548452e+10</td>\n",
       "      <td>1.113559e+00</td>\n",
       "    </tr>\n",
       "    <tr>\n",
       "      <th>min</th>\n",
       "      <td>1.000000e+20</td>\n",
       "      <td>6.626016e+11</td>\n",
       "      <td>1.000000e+00</td>\n",
       "    </tr>\n",
       "    <tr>\n",
       "      <th>25%</th>\n",
       "      <td>1.047602e+20</td>\n",
       "      <td>1.524690e+12</td>\n",
       "      <td>4.000000e+00</td>\n",
       "    </tr>\n",
       "    <tr>\n",
       "      <th>50%</th>\n",
       "      <td>1.092882e+20</td>\n",
       "      <td>1.555425e+12</td>\n",
       "      <td>5.000000e+00</td>\n",
       "    </tr>\n",
       "    <tr>\n",
       "      <th>75%</th>\n",
       "      <td>1.138531e+20</td>\n",
       "      <td>1.581127e+12</td>\n",
       "      <td>5.000000e+00</td>\n",
       "    </tr>\n",
       "    <tr>\n",
       "      <th>max</th>\n",
       "      <td>1.184467e+20</td>\n",
       "      <td>1.631067e+12</td>\n",
       "      <td>5.000000e+00</td>\n",
       "    </tr>\n",
       "  </tbody>\n",
       "</table>\n",
       "</div>"
      ],
      "text/plain": [
       "            user_id          time        rating\n",
       "count  2.640663e+06  2.640663e+06  2.640663e+06\n",
       "mean   1.092969e+20  1.551473e+12  4.303740e+00\n",
       "std    5.265431e+18  4.548452e+10  1.113559e+00\n",
       "min    1.000000e+20  6.626016e+11  1.000000e+00\n",
       "25%    1.047602e+20  1.524690e+12  4.000000e+00\n",
       "50%    1.092882e+20  1.555425e+12  5.000000e+00\n",
       "75%    1.138531e+20  1.581127e+12  5.000000e+00\n",
       "max    1.184467e+20  1.631067e+12  5.000000e+00"
      ]
     },
     "execution_count": 9,
     "metadata": {},
     "output_type": "execute_result"
    }
   ],
   "source": [
    "df_muestra.describe()"
   ]
  },
  {
   "cell_type": "markdown",
   "metadata": {},
   "source": [
    "- count: número de observaciones no nulas.\n",
    "- mean: media aritmética de los valores.\n",
    "- std: desviación estándar.\n",
    "- min: valor mínimo.\n",
    "- 25% (percentil 25): valor que separa el 25% más bajo de los datos.\n",
    "- 50% (percentil 50 o mediana): valor que separa el 50% de los datos, es decir, el valor medio.\n",
    "- 75% (percentil 75): valor que separa el 75% más bajo de los datos.\n",
    "- max: valor máximo."
   ]
  },
  {
   "cell_type": "markdown",
   "metadata": {},
   "source": [
    "**Mapa de correlaciones de las variables numéricas:**"
   ]
  },
  {
   "cell_type": "code",
   "execution_count": 10,
   "metadata": {},
   "outputs": [
    {
     "data": {
      "image/png": "[encoded data removed]",
      "text/plain": [
       "<Figure size 1000x800 with 2 Axes>"
      ]
     },
     "metadata": {},
     "output_type": "display_data"
    }
   ],
   "source": [
    "# Seleccionamos solo las columnas numéricas:\n",
    "df_numericas = df_muestra.select_dtypes(include='number')\n",
    "\n",
    "# Calculamos la matriz de correlación:\n",
    "correlaciones = df_numericas.corr()\n",
    "\n",
    "# Configuramos el mapa de calor con colores rojizos:\n",
    "sns.set(style=\"white\")\n",
    "plt.figure(figsize=(10, 8))\n",
    "sns.heatmap(correlaciones, annot=True, cmap='Reds', fmt='.2f', linewidths=.5)\n",
    "plt.title('Mapa de Correlaciones (Variables Numéricas)')\n",
    "plt.show()"
   ]
  },
  {
   "cell_type": "markdown",
   "metadata": {},
   "source": [
    "No encontramos ninguna fuerte correlación."
   ]
  },
  {
   "cell_type": "markdown",
   "metadata": {},
   "source": [
    "**Buscamos valores atípicos (outliers):**"
   ]
  },
  {
   "cell_type": "code",
   "execution_count": 11,
   "metadata": {},
   "outputs": [
    {
     "data": {
      "image/png": "[encoded data removed]",
      "text/plain": [
       "<Figure size 1200x800 with 1 Axes>"
      ]
     },
     "metadata": {},
     "output_type": "display_data"
    }
   ],
   "source": [
    "# Creamos un gráfico de boxplot para identificar outliers en todas las columnas:\n",
    "sns.set(style=\"whitegrid\")\n",
    "plt.figure(figsize=(12, 8))\n",
    "sns.boxplot(data=df_muestra)\n",
    "plt.xlabel('Columnas')\n",
    "plt.title('Boxplot de Outliers')\n",
    "plt.show()"
   ]
  },
  {
   "cell_type": "markdown",
   "metadata": {},
   "source": [
    "No encontramos ningún valor atípico."
   ]
  },
  {
   "cell_type": "markdown",
   "metadata": {},
   "source": [
    "**Top 10 de usuarios con mayor cantidad de reseñas realizadas:**"
   ]
  },
  {
   "cell_type": "code",
   "execution_count": 12,
   "metadata": {},
   "outputs": [
    {
     "data": {
      "text/html": [
       "<div>\n",
       "<style scoped>\n",
       "    .dataframe tbody tr th:only-of-type {\n",
       "        vertical-align: middle;\n",
       "    }\n",
       "\n",
       "    .dataframe tbody tr th {\n",
       "        vertical-align: top;\n",
       "    }\n",
       "\n",
       "    .dataframe thead th {\n",
       "        text-align: right;\n",
       "    }\n",
       "</style>\n",
       "<table border=\"1\" class=\"dataframe\">\n",
       "  <thead>\n",
       "    <tr style=\"text-align: right;\">\n",
       "      <th></th>\n",
       "      <th>name</th>\n",
       "      <th>user_id</th>\n",
       "      <th>recuento</th>\n",
       "    </tr>\n",
       "  </thead>\n",
       "  <tbody>\n",
       "    <tr>\n",
       "      <th>0</th>\n",
       "      <td>Moe Thanks -555-</td>\n",
       "      <td>1.116543e+20</td>\n",
       "      <td>346</td>\n",
       "    </tr>\n",
       "    <tr>\n",
       "      <th>1</th>\n",
       "      <td>Gregor J. Rothfuss</td>\n",
       "      <td>1.048192e+20</td>\n",
       "      <td>311</td>\n",
       "    </tr>\n",
       "    <tr>\n",
       "      <th>2</th>\n",
       "      <td>R Etheridge</td>\n",
       "      <td>1.013988e+20</td>\n",
       "      <td>306</td>\n",
       "    </tr>\n",
       "    <tr>\n",
       "      <th>3</th>\n",
       "      <td>Jasmine H</td>\n",
       "      <td>1.047310e+20</td>\n",
       "      <td>246</td>\n",
       "    </tr>\n",
       "    <tr>\n",
       "      <th>4</th>\n",
       "      <td>The Corcoran Group</td>\n",
       "      <td>1.066545e+20</td>\n",
       "      <td>245</td>\n",
       "    </tr>\n",
       "    <tr>\n",
       "      <th>5</th>\n",
       "      <td>Sebastian Sinisterra (CitySeby)</td>\n",
       "      <td>1.032377e+20</td>\n",
       "      <td>227</td>\n",
       "    </tr>\n",
       "    <tr>\n",
       "      <th>6</th>\n",
       "      <td>Sebastian Sinisterra</td>\n",
       "      <td>1.032377e+20</td>\n",
       "      <td>227</td>\n",
       "    </tr>\n",
       "    <tr>\n",
       "      <th>7</th>\n",
       "      <td>London Eevee Tokyo Ebisu - Swanslade 恵比寿-スワンズレイド</td>\n",
       "      <td>1.010309e+20</td>\n",
       "      <td>221</td>\n",
       "    </tr>\n",
       "    <tr>\n",
       "      <th>8</th>\n",
       "      <td>Traci</td>\n",
       "      <td>1.087196e+20</td>\n",
       "      <td>205</td>\n",
       "    </tr>\n",
       "    <tr>\n",
       "      <th>9</th>\n",
       "      <td>Elk Hunter</td>\n",
       "      <td>1.116899e+20</td>\n",
       "      <td>182</td>\n",
       "    </tr>\n",
       "    <tr>\n",
       "      <th>10</th>\n",
       "      <td>Mr XP</td>\n",
       "      <td>1.120255e+20</td>\n",
       "      <td>178</td>\n",
       "    </tr>\n",
       "  </tbody>\n",
       "</table>\n",
       "</div>"
      ],
      "text/plain": [
       "                                                name       user_id  recuento\n",
       "0                                   Moe Thanks -555-  1.116543e+20       346\n",
       "1                                 Gregor J. Rothfuss  1.048192e+20       311\n",
       "2                                        R Etheridge  1.013988e+20       306\n",
       "3                                          Jasmine H  1.047310e+20       246\n",
       "4                                 The Corcoran Group  1.066545e+20       245\n",
       "5                    Sebastian Sinisterra (CitySeby)  1.032377e+20       227\n",
       "6                               Sebastian Sinisterra  1.032377e+20       227\n",
       "7   London Eevee Tokyo Ebisu - Swanslade 恵比寿-スワンズレイド  1.010309e+20       221\n",
       "8                                              Traci  1.087196e+20       205\n",
       "9                                         Elk Hunter  1.116899e+20       182\n",
       "10                                             Mr XP  1.120255e+20       178"
      ]
     },
     "execution_count": 12,
     "metadata": {},
     "output_type": "execute_result"
    }
   ],
   "source": [
    "# Obtenemos la frecuencia de cada nombre en la columna \"user_id\":\n",
    "frecuencia_user = df_muestra[\"user_id\"].value_counts()\n",
    "\n",
    "# Creamos un DataFrame a partir del resultado de value_counts:\n",
    "df_frecuencia_user = pd.DataFrame({\"user_id\": frecuencia_user.index, \"recuento\": frecuencia_user.values}).head(10)\n",
    "\n",
    "# Le agregamos la columna \"name\":\n",
    "usuarios = pd.merge(df_muestra[[\"name\", \"user_id\"]], df_frecuencia_user, on=\"user_id\").sort_values(by='recuento', ascending=False)\n",
    "\n",
    "# Filtramos aquellos usuarios que no tienen nombre (\"A Google User\") y ordenamos el DataFrame:\n",
    "usuarios = usuarios[usuarios[\"name\"] != \"A Google User\"].drop_duplicates().sort_values(by=\"recuento\", ascending=False).reset_index(drop=True)\n",
    "\n",
    "usuarios"
   ]
  },
  {
   "cell_type": "markdown",
   "metadata": {},
   "source": [
    "El usuario que más reseñas ha realizado ha sido \"Moe Thanks -555-\" con 346 reseñas realizadas."
   ]
  },
  {
   "cell_type": "markdown",
   "metadata": {},
   "source": [
    "**Cantidad de reseñas positivas, neutrales y negativas según calificación (rating):**"
   ]
  },
  {
   "cell_type": "code",
   "execution_count": 13,
   "metadata": {},
   "outputs": [
    {
     "data": {
      "text/html": [
       "<div>\n",
       "<style scoped>\n",
       "    .dataframe tbody tr th:only-of-type {\n",
       "        vertical-align: middle;\n",
       "    }\n",
       "\n",
       "    .dataframe tbody tr th {\n",
       "        vertical-align: top;\n",
       "    }\n",
       "\n",
       "    .dataframe thead th {\n",
       "        text-align: right;\n",
       "    }\n",
       "</style>\n",
       "<table border=\"1\" class=\"dataframe\">\n",
       "  <thead>\n",
       "    <tr style=\"text-align: right;\">\n",
       "      <th></th>\n",
       "      <th>rating</th>\n",
       "      <th>recuento</th>\n",
       "    </tr>\n",
       "  </thead>\n",
       "  <tbody>\n",
       "    <tr>\n",
       "      <th>0</th>\n",
       "      <td>5</td>\n",
       "      <td>1639358</td>\n",
       "    </tr>\n",
       "    <tr>\n",
       "      <th>1</th>\n",
       "      <td>4</td>\n",
       "      <td>537794</td>\n",
       "    </tr>\n",
       "    <tr>\n",
       "      <th>2</th>\n",
       "      <td>3</td>\n",
       "      <td>236684</td>\n",
       "    </tr>\n",
       "    <tr>\n",
       "      <th>3</th>\n",
       "      <td>1</td>\n",
       "      <td>146946</td>\n",
       "    </tr>\n",
       "    <tr>\n",
       "      <th>4</th>\n",
       "      <td>2</td>\n",
       "      <td>79881</td>\n",
       "    </tr>\n",
       "  </tbody>\n",
       "</table>\n",
       "</div>"
      ],
      "text/plain": [
       "   rating  recuento\n",
       "0       5   1639358\n",
       "1       4    537794\n",
       "2       3    236684\n",
       "3       1    146946\n",
       "4       2     79881"
      ]
     },
     "execution_count": 13,
     "metadata": {},
     "output_type": "execute_result"
    }
   ],
   "source": [
    "# Obtenemos la frecuencia de cada rating en la columna \"rating\":\n",
    "frecuencia_rating = df_muestra[\"rating\"].value_counts()\n",
    "\n",
    "# Creamos un DataFrame a partir del resultado de value_counts:\n",
    "df_frecuencia_rating = pd.DataFrame({\"rating\": frecuencia_rating.index, \"recuento\": frecuencia_rating.values}).head(10)\n",
    "\n",
    "df_frecuencia_rating"
   ]
  },
  {
   "cell_type": "code",
   "execution_count": 14,
   "metadata": {},
   "outputs": [
    {
     "data": {
      "image/png": "[encoded data removed]",
      "text/plain": [
       "<Figure size 800x800 with 1 Axes>"
      ]
     },
     "metadata": {},
     "output_type": "display_data"
    }
   ],
   "source": [
    "# Agrupamos el DataFrame por la columna \"rating\" y calcula el recuento para cada valor:\n",
    "data = df_frecuencia_rating.groupby('rating')['recuento'].sum()\n",
    "\n",
    "# Creamos un gráfico de dónut con etiquetas de porcentajes y colores rojizos:\n",
    "colores_rojos = ['#e74c3c', '#c0392b', '#d35400', '#e67e22', '#f39c12']\n",
    "plt.figure(figsize=(8, 8))\n",
    "plt.pie(data, labels=data.index, autopct='%1.1f%%', colors=colores_rojos, startangle=90, wedgeprops=dict(width=0.3))\n",
    "centro_circulo = plt.Circle((0, 0), 0.6, color='white', fc='white', linewidth=1.25)\n",
    "fig = plt.gcf()\n",
    "fig.gca().add_artist(centro_circulo)\n",
    "plt.title('Distribución de Ratings')\n",
    "plt.show()"
   ]
  },
  {
   "cell_type": "markdown",
   "metadata": {},
   "source": [
    "Podemos concluir que la mayoría de las reseñas son positivas (calificación: 4 y 5) con el 82.5%, seguido de las reseñas neutrales (calificación: 3) con un 9%, y por último las reseñas negativas (calificación: 1 y 2) con 8.6%."
   ]
  },
  {
   "cell_type": "markdown",
   "metadata": {},
   "source": [
    "<h3>Conclusiones:</h3>\n",
    "\n",
    "El directorio \"reviews-estados\" contiene la información sobre las reseñas de negocios en cada estado de Estados Unidos. Se da a conocer información sobre el usuario que realizó la reseña, el momento de la reseña, y el contenido de la misma (calificación, texto, imágenes). También nos muestra, si es que existe, la respuesta del negocio a dicha crítica.\n",
    "\n",
    "La enorme extensión de los archivos imposibilitó trabajar con todo el conjunto de datos disponibles. Debido a esto, se tomó como conjunto de muestra la data del archivo \"review_New_York.csv\" de 2.700.000 registros, que fue creado fusionando los 18 archivos JSON de la carpeta \"review-New_York\", dentro del directorio \"reviews-estados\".\n",
    "\n",
    "La información se encuentra dividida en 8 columnas de las cuales 3 son de tipo numérico. En nuestro conjunto de prueba no encontramos registros en blanco, pero si habían presentes 59337 registros duplicados, lo cual representa más del 2% de los registros totales. Se encontró gran cantidad de valores nulos en las columnas \"text\", \"pics\" y \"resp\", estos son válidos y no representan una perdida de información. No se encontraron valores atípicos, ni una alta correlación entre las variables numéricas."
   ]
  }
 ],
 "metadata": {
  "kernelspec": {
   "display_name": "Python 3",
   "language": "python",
   "name": "python3"
  },
  "language_info": {
   "codemirror_mode": {
    "name": "ipython",
    "version": 3
   },
   "file_extension": ".py",
   "mimetype": "text/x-python",
   "name": "python",
   "nbconvert_exporter": "python",
   "pygments_lexer": "ipython3",
   "version": "3.12.1"
  }
 },
 "nbformat": 4,
 "nbformat_minor": 2
}
