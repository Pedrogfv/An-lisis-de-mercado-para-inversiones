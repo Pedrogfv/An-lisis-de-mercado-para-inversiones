{
 "cells": [
  {
   "cell_type": "code",
   "execution_count": 1,
   "metadata": {},
   "outputs": [],
   "source": [
    "import pandas as pd\n",
    "import ast"
   ]
  },
  {
   "cell_type": "markdown",
   "metadata": {},
   "source": [
    "<h3>Filtro de restaurantes y obtención de estados de EEUU:</h3>"
   ]
  },
  {
   "cell_type": "code",
   "execution_count": 32,
   "metadata": {},
   "outputs": [],
   "source": [
    "# Cargamos el dataset que contiene información de los negocios:\n",
    "df_metadata = pd.read_csv(r\"../Datasets/Google Maps/metadata_sitios.csv\")"
   ]
  },
  {
   "cell_type": "markdown",
   "metadata": {},
   "source": [
    "Extracción de la abreviatura del estado de la columna \"address\":"
   ]
  },
  {
   "cell_type": "code",
   "execution_count": 33,
   "metadata": {},
   "outputs": [
    {
     "data": {
      "text/plain": [
       "3025011"
      ]
     },
     "execution_count": 33,
     "metadata": {},
     "output_type": "execute_result"
    }
   ],
   "source": [
    "# Cantidad de reseñas del dataset:\n",
    "len(df_metadata)"
   ]
  },
  {
   "cell_type": "code",
   "execution_count": 34,
   "metadata": {},
   "outputs": [
    {
     "data": {
      "text/plain": [
       "'Porter Pharmacy, 129 N Second St, Cochran, GA 31014'"
      ]
     },
     "execution_count": 34,
     "metadata": {},
     "output_type": "execute_result"
    }
   ],
   "source": [
    "# Vemos una muestra del contenido de dicha columna:\n",
    "df_metadata[\"address\"][0]"
   ]
  },
  {
   "cell_type": "code",
   "execution_count": 37,
   "metadata": {},
   "outputs": [
    {
     "data": {
      "text/plain": [
       "0          GA\n",
       "1          CA\n",
       "2          CA\n",
       "3          CA\n",
       "4          CA\n",
       "           ..\n",
       "3025006    IL\n",
       "3025007    CA\n",
       "3025008    WY\n",
       "3025009    AZ\n",
       "3025010    WY\n",
       "Name: estado, Length: 3025011, dtype: object"
      ]
     },
     "execution_count": 37,
     "metadata": {},
     "output_type": "execute_result"
    }
   ],
   "source": [
    "# Lista de abreviaturas de estados:\n",
    "abreviaturas_estados = ['AL', 'AK', 'AZ', 'AR', 'CA', 'CO', 'CT', 'DE', 'DC', 'FL', 'GA', 'HI', 'ID', 'IL', 'IN', 'IA', 'KS', 'KY', 'LA', 'ME', 'MD', 'MA', 'MI', 'MN', 'MS', 'MO', 'MT', 'NE', 'NV', 'NH', 'NJ', 'NM', 'NY', 'NC', 'ND', 'OH', 'OK', 'OR', 'PA', 'RI', 'SC', 'SD', 'TN', 'TX', 'UT', 'VT', 'VA', 'WA', 'WV', 'WI', 'WY']\n",
    "\n",
    "# Creamos la nueva columna \"estado\", verificamos si en cada registro de la columna \"address\" existe alguna abreviatura de estado:\n",
    "df_metadata[\"estado\"] = df_metadata[\"address\"].astype(str).apply(lambda x: next((estado for estado in abreviaturas_estados if estado in x), None))\n",
    "\n",
    "df_metadata[\"estado\"]"
   ]
  },
  {
   "cell_type": "code",
   "execution_count": 36,
   "metadata": {},
   "outputs": [
    {
     "data": {
      "text/plain": [
       "110804"
      ]
     },
     "execution_count": 36,
     "metadata": {},
     "output_type": "execute_result"
    }
   ],
   "source": [
    "# Verificamos la cantidad de nulos:\n",
    "df_metadata[\"estado\"].isna().sum()"
   ]
  },
  {
   "cell_type": "markdown",
   "metadata": {},
   "source": [
    "------------"
   ]
  },
  {
   "cell_type": "markdown",
   "metadata": {},
   "source": [
    "Extracción de la categoría \"Restaurant\" de la columna \"category\":"
   ]
  },
  {
   "cell_type": "code",
   "execution_count": 38,
   "metadata": {},
   "outputs": [
    {
     "data": {
      "text/plain": [
       "0                                                 Pharmacy\n",
       "1                                         Textile exporter\n",
       "2                                        Korean restaurant\n",
       "3                                             Fabric store\n",
       "4                                             Fabric store\n",
       "                                ...                       \n",
       "3025006                                    Restaurant, Bar\n",
       "3025007                                   Trucking company\n",
       "3025008                           Beauty salon, Hair salon\n",
       "3025009    Truck accessories store, Powder coating service\n",
       "3025010                                         Campground\n",
       "Name: categories, Length: 3025011, dtype: object"
      ]
     },
     "execution_count": 38,
     "metadata": {},
     "output_type": "execute_result"
    }
   ],
   "source": [
    "# Cambiamos el formato de la columna a string:\n",
    "df_metadata[\"categories\"] = df_metadata[\"category\"].astype(str)\n",
    "\n",
    "# Limpiamos la columna:\n",
    "df_metadata[\"categories\"] = df_metadata[\"categories\"].str.replace(\"[\", \"\").str.replace(\"]\", \"\").str.replace(\"'\", \"\")\n",
    "df_metadata[\"categories\"]"
   ]
  },
  {
   "cell_type": "code",
   "execution_count": 39,
   "metadata": {},
   "outputs": [
    {
     "data": {
      "text/plain": [
       "212014"
      ]
     },
     "execution_count": 39,
     "metadata": {},
     "output_type": "execute_result"
    }
   ],
   "source": [
    "# Filtramos los registros que contienen la categoría \"restaurant\":\n",
    "df_restaurant = df_metadata[df_metadata[\"categories\"].str.contains(\"restaurant\", case=False)].reset_index(drop=True)\n",
    "len(df_restaurant)"
   ]
  },
  {
   "cell_type": "code",
   "execution_count": 40,
   "metadata": {},
   "outputs": [
    {
     "data": {
      "text/html": [
       "<div>\n",
       "<style scoped>\n",
       "    .dataframe tbody tr th:only-of-type {\n",
       "        vertical-align: middle;\n",
       "    }\n",
       "\n",
       "    .dataframe tbody tr th {\n",
       "        vertical-align: top;\n",
       "    }\n",
       "\n",
       "    .dataframe thead th {\n",
       "        text-align: right;\n",
       "    }\n",
       "</style>\n",
       "<table border=\"1\" class=\"dataframe\">\n",
       "  <thead>\n",
       "    <tr style=\"text-align: right;\">\n",
       "      <th></th>\n",
       "      <th>name</th>\n",
       "      <th>address</th>\n",
       "      <th>gmap_id</th>\n",
       "      <th>description</th>\n",
       "      <th>latitude</th>\n",
       "      <th>longitude</th>\n",
       "      <th>category</th>\n",
       "      <th>avg_rating</th>\n",
       "      <th>num_of_reviews</th>\n",
       "      <th>price</th>\n",
       "      <th>hours</th>\n",
       "      <th>MISC</th>\n",
       "      <th>state</th>\n",
       "      <th>relative_results</th>\n",
       "      <th>url</th>\n",
       "      <th>estado</th>\n",
       "      <th>categories</th>\n",
       "    </tr>\n",
       "  </thead>\n",
       "  <tbody>\n",
       "    <tr>\n",
       "      <th>0</th>\n",
       "      <td>San Soo Dang</td>\n",
       "      <td>San Soo Dang, 761 S Vermont Ave, Los Angeles, ...</td>\n",
       "      <td>0x80c2c778e3b73d33:0xbdc58662a4a97d49</td>\n",
       "      <td>NaN</td>\n",
       "      <td>34.058092</td>\n",
       "      <td>-118.292130</td>\n",
       "      <td>['Korean restaurant']</td>\n",
       "      <td>4.4</td>\n",
       "      <td>18</td>\n",
       "      <td>NaN</td>\n",
       "      <td>[['Thursday', '6:30AM–6PM'], ['Friday', '6:30A...</td>\n",
       "      <td>{'Service options': ['Takeout', 'Dine-in', 'De...</td>\n",
       "      <td>Open ⋅ Closes 6PM</td>\n",
       "      <td>['0x80c2c78249aba68f:0x35bf16ce61be751d', '0x8...</td>\n",
       "      <td>https://www.google.com/maps/place//data=!4m2!3...</td>\n",
       "      <td>CA</td>\n",
       "      <td>Korean restaurant</td>\n",
       "    </tr>\n",
       "    <tr>\n",
       "      <th>1</th>\n",
       "      <td>Vons Chicken</td>\n",
       "      <td>Vons Chicken, 12740 La Mirada Blvd, La Mirada,...</td>\n",
       "      <td>0x80dd2b4c8555edb7:0xfc33d65c4bdbef42</td>\n",
       "      <td>NaN</td>\n",
       "      <td>33.916402</td>\n",
       "      <td>-118.010855</td>\n",
       "      <td>['Restaurant']</td>\n",
       "      <td>4.5</td>\n",
       "      <td>18</td>\n",
       "      <td>NaN</td>\n",
       "      <td>[['Thursday', '11AM–9:30PM'], ['Friday', '11AM...</td>\n",
       "      <td>{'Service options': ['Outdoor seating', 'Curbs...</td>\n",
       "      <td>Open ⋅ Closes 9:30PM</td>\n",
       "      <td>NaN</td>\n",
       "      <td>https://www.google.com/maps/place//data=!4m2!3...</td>\n",
       "      <td>CA</td>\n",
       "      <td>Restaurant</td>\n",
       "    </tr>\n",
       "    <tr>\n",
       "      <th>2</th>\n",
       "      <td>Sweet Rewards Gluten Free Bakery, LLC</td>\n",
       "      <td>Sweet Rewards Gluten Free Bakery, LLC, 85 NE D...</td>\n",
       "      <td>0x87ec235c54d25b31:0x3b75fb5facc602f</td>\n",
       "      <td>NaN</td>\n",
       "      <td>41.616079</td>\n",
       "      <td>-93.865487</td>\n",
       "      <td>['Bakery', 'Health food restaurant']</td>\n",
       "      <td>4.7</td>\n",
       "      <td>21</td>\n",
       "      <td>NaN</td>\n",
       "      <td>[['Thursday', '10AM–5:30PM'], ['Friday', '10AM...</td>\n",
       "      <td>{'Service options': ['Delivery']}</td>\n",
       "      <td>Permanently closed</td>\n",
       "      <td>['0x87ee974869295555:0x95f310d065882c9b', '0x8...</td>\n",
       "      <td>https://www.google.com/maps/place//data=!4m2!3...</td>\n",
       "      <td>IA</td>\n",
       "      <td>Bakery, Health food restaurant</td>\n",
       "    </tr>\n",
       "    <tr>\n",
       "      <th>3</th>\n",
       "      <td>Vivi Bubble Tea</td>\n",
       "      <td>Vivi Bubble Tea, 701 S 5th St, Philadelphia, P...</td>\n",
       "      <td>0x89c6c89efcaed69d:0xded973f6033e7dba</td>\n",
       "      <td>Bubble tea shop offering hot &amp; cold versions, ...</td>\n",
       "      <td>39.940293</td>\n",
       "      <td>-75.150923</td>\n",
       "      <td>['Restaurant']</td>\n",
       "      <td>4.0</td>\n",
       "      <td>8</td>\n",
       "      <td>NaN</td>\n",
       "      <td>NaN</td>\n",
       "      <td>{'Service options': ['Delivery'], 'Amenities':...</td>\n",
       "      <td>NaN</td>\n",
       "      <td>['0x89c6c62a40f4b733:0x73bfeec1898f272b', '0x8...</td>\n",
       "      <td>https://www.google.com/maps/place//data=!4m2!3...</td>\n",
       "      <td>PA</td>\n",
       "      <td>Restaurant</td>\n",
       "    </tr>\n",
       "    <tr>\n",
       "      <th>4</th>\n",
       "      <td>Hale Pops</td>\n",
       "      <td>Hale Pops, 55-370 Kamehameha Hwy, Laie, HI 96762</td>\n",
       "      <td>0x7c00456eecad3111:0x8217f9600c51f33</td>\n",
       "      <td>NaN</td>\n",
       "      <td>21.637796</td>\n",
       "      <td>-157.920714</td>\n",
       "      <td>['Restaurant']</td>\n",
       "      <td>4.4</td>\n",
       "      <td>18</td>\n",
       "      <td>NaN</td>\n",
       "      <td>[['Thursday', '11AM–8PM'], ['Friday', '11AM–8P...</td>\n",
       "      <td>{'Service options': ['Outdoor seating', 'Takeo...</td>\n",
       "      <td>Closed ⋅ Opens 11AM</td>\n",
       "      <td>['0x7c00451360f80cf1:0x930291a38bab3132', '0x7...</td>\n",
       "      <td>https://www.google.com/maps/place//data=!4m2!3...</td>\n",
       "      <td>HI</td>\n",
       "      <td>Restaurant</td>\n",
       "    </tr>\n",
       "  </tbody>\n",
       "</table>\n",
       "</div>"
      ],
      "text/plain": [
       "                                    name  \\\n",
       "0                           San Soo Dang   \n",
       "1                           Vons Chicken   \n",
       "2  Sweet Rewards Gluten Free Bakery, LLC   \n",
       "3                        Vivi Bubble Tea   \n",
       "4                              Hale Pops   \n",
       "\n",
       "                                             address  \\\n",
       "0  San Soo Dang, 761 S Vermont Ave, Los Angeles, ...   \n",
       "1  Vons Chicken, 12740 La Mirada Blvd, La Mirada,...   \n",
       "2  Sweet Rewards Gluten Free Bakery, LLC, 85 NE D...   \n",
       "3  Vivi Bubble Tea, 701 S 5th St, Philadelphia, P...   \n",
       "4   Hale Pops, 55-370 Kamehameha Hwy, Laie, HI 96762   \n",
       "\n",
       "                                 gmap_id  \\\n",
       "0  0x80c2c778e3b73d33:0xbdc58662a4a97d49   \n",
       "1  0x80dd2b4c8555edb7:0xfc33d65c4bdbef42   \n",
       "2   0x87ec235c54d25b31:0x3b75fb5facc602f   \n",
       "3  0x89c6c89efcaed69d:0xded973f6033e7dba   \n",
       "4   0x7c00456eecad3111:0x8217f9600c51f33   \n",
       "\n",
       "                                         description   latitude   longitude  \\\n",
       "0                                                NaN  34.058092 -118.292130   \n",
       "1                                                NaN  33.916402 -118.010855   \n",
       "2                                                NaN  41.616079  -93.865487   \n",
       "3  Bubble tea shop offering hot & cold versions, ...  39.940293  -75.150923   \n",
       "4                                                NaN  21.637796 -157.920714   \n",
       "\n",
       "                               category  avg_rating  num_of_reviews price  \\\n",
       "0                 ['Korean restaurant']         4.4              18   NaN   \n",
       "1                        ['Restaurant']         4.5              18   NaN   \n",
       "2  ['Bakery', 'Health food restaurant']         4.7              21   NaN   \n",
       "3                        ['Restaurant']         4.0               8   NaN   \n",
       "4                        ['Restaurant']         4.4              18   NaN   \n",
       "\n",
       "                                               hours  \\\n",
       "0  [['Thursday', '6:30AM–6PM'], ['Friday', '6:30A...   \n",
       "1  [['Thursday', '11AM–9:30PM'], ['Friday', '11AM...   \n",
       "2  [['Thursday', '10AM–5:30PM'], ['Friday', '10AM...   \n",
       "3                                                NaN   \n",
       "4  [['Thursday', '11AM–8PM'], ['Friday', '11AM–8P...   \n",
       "\n",
       "                                                MISC                 state  \\\n",
       "0  {'Service options': ['Takeout', 'Dine-in', 'De...     Open ⋅ Closes 6PM   \n",
       "1  {'Service options': ['Outdoor seating', 'Curbs...  Open ⋅ Closes 9:30PM   \n",
       "2                  {'Service options': ['Delivery']}    Permanently closed   \n",
       "3  {'Service options': ['Delivery'], 'Amenities':...                   NaN   \n",
       "4  {'Service options': ['Outdoor seating', 'Takeo...   Closed ⋅ Opens 11AM   \n",
       "\n",
       "                                    relative_results  \\\n",
       "0  ['0x80c2c78249aba68f:0x35bf16ce61be751d', '0x8...   \n",
       "1                                                NaN   \n",
       "2  ['0x87ee974869295555:0x95f310d065882c9b', '0x8...   \n",
       "3  ['0x89c6c62a40f4b733:0x73bfeec1898f272b', '0x8...   \n",
       "4  ['0x7c00451360f80cf1:0x930291a38bab3132', '0x7...   \n",
       "\n",
       "                                                 url estado  \\\n",
       "0  https://www.google.com/maps/place//data=!4m2!3...     CA   \n",
       "1  https://www.google.com/maps/place//data=!4m2!3...     CA   \n",
       "2  https://www.google.com/maps/place//data=!4m2!3...     IA   \n",
       "3  https://www.google.com/maps/place//data=!4m2!3...     PA   \n",
       "4  https://www.google.com/maps/place//data=!4m2!3...     HI   \n",
       "\n",
       "                       categories  \n",
       "0               Korean restaurant  \n",
       "1                      Restaurant  \n",
       "2  Bakery, Health food restaurant  \n",
       "3                      Restaurant  \n",
       "4                      Restaurant  "
      ]
     },
     "execution_count": 40,
     "metadata": {},
     "output_type": "execute_result"
    }
   ],
   "source": [
    "df_restaurant.head()"
   ]
  },
  {
   "cell_type": "markdown",
   "metadata": {},
   "source": [
    "Explormos los atributos de cada negocio:"
   ]
  },
  {
   "cell_type": "code",
   "execution_count": 41,
   "metadata": {},
   "outputs": [],
   "source": [
    "# Restaurantes:\n",
    "df_restaurant[\"MISC\"] = df_restaurant[\"MISC\"].astype(str)\n",
    "r_credit_card = df_restaurant[df_restaurant[\"MISC\"].str.contains(\"credit card\", case=False)].reset_index(drop=True)\n",
    "r_debit_card = df_restaurant[df_restaurant[\"MISC\"].str.contains(\"debit card\", case=False)].reset_index(drop=True)\n",
    "r_cred_deb = df_restaurant[(df_restaurant[\"MISC\"].str.contains(\"debit card\", case=False)) | (df_restaurant[\"MISC\"].str.contains(\"credit card\", case=False)) | (df_restaurant[\"MISC\"].str.contains(\"card\", case=False))].reset_index(drop=True)\n",
    "\n",
    "# Negocios de todo tipo:\n",
    "df_metadata[\"MISC\"] = df_metadata[\"MISC\"].astype(str)\n",
    "credito = df_metadata[df_metadata[\"MISC\"].str.contains(\"credit card\", case=False)].reset_index(drop=True)\n",
    "debito = df_metadata[df_metadata[\"MISC\"].str.contains(\"credit card\", case=False)].reset_index(drop=True)\n",
    "cred_deb = df_metadata[(df_metadata[\"MISC\"].str.contains(\"debit card\", case=False)) | (df_restaurant[\"MISC\"].str.contains(\"credit card\", case=False)) | (df_restaurant[\"MISC\"].str.contains(\"card\", case=False))].reset_index(drop=True)\n"
   ]
  },
  {
   "cell_type": "code",
   "execution_count": 42,
   "metadata": {},
   "outputs": [
    {
     "name": "stdout",
     "output_type": "stream",
     "text": [
      "Restaurantes que poseen crédito: 31397\n",
      "Restaurantes que poseen débito: 61005\n",
      "Restaurantes que poseen crédito y débito: 66121\n",
      "Negocios que poseen crédito: 193416\n",
      "Negocios que poseen débito: 193416\n",
      "Negocios que poseen crédito y débito: 360049\n"
     ]
    }
   ],
   "source": [
    "# Restaurantes\n",
    "print(f\"Restaurantes que poseen crédito: {len(r_credit_card)}\")\n",
    "print(f\"Restaurantes que poseen débito: {len(r_debit_card)}\")\n",
    "print(f\"Restaurantes que poseen crédito y débito: {len(r_cred_deb)}\")\n",
    "\n",
    "# Negocios de todo tipo:\n",
    "print(f\"Negocios que poseen crédito: {len(credito)}\")\n",
    "print(f\"Negocios que poseen débito: {len(debito)}\")\n",
    "print(f\"Negocios que poseen crédito y débito: {len(cred_deb)}\")"
   ]
  },
  {
   "cell_type": "markdown",
   "metadata": {},
   "source": [
    "Eploramos la información por región y estado:"
   ]
  },
  {
   "cell_type": "code",
   "execution_count": 43,
   "metadata": {},
   "outputs": [],
   "source": [
    "# Definimos las regiones:\n",
    "noreste = ['CT', 'ME', 'MA', 'NH', 'RI', 'VT', 'NY', 'NJ', 'PA']\n",
    "medio_oeste = ['IL', 'IN', 'IA', 'KS', 'MI', 'MN', 'MO', 'NE', 'ND', 'OH', 'SD', 'WI']\n",
    "sur = ['AL', 'AR', 'DE', 'FL', 'GA', 'KY', 'LA', 'MD', 'MS', 'NC', 'OK', 'SC', 'TN', 'TX', 'VA', 'WV']\n",
    "oeste = ['AK', 'AZ', 'CA', 'CO', 'HI', 'ID', 'MT', 'NV', 'NM', 'OR', 'UT', 'WA', 'WY']"
   ]
  },
  {
   "cell_type": "code",
   "execution_count": 44,
   "metadata": {},
   "outputs": [
    {
     "name": "stdout",
     "output_type": "stream",
     "text": [
      "Cantidad de negocios del noreste: 478512\n",
      "Cantidad de restaurantes del noreste: 44262\n",
      "Cantidad de negocios del medio oeste: 626531\n",
      "Cantidad de restaurantes del medio oeste: 38467\n",
      "Cantidad de negocios del sur: 1143955\n",
      "Cantidad de restaurantes sur: 77302\n",
      "Cantidad de negocios del oeste: 656107\n",
      "Cantidad de restaurantes del oeste: 49372\n"
     ]
    }
   ],
   "source": [
    "print(f\"Cantidad de negocios del noreste: {len(df_metadata[df_metadata[\"estado\"].isin(noreste)])}\")\n",
    "print(f\"Cantidad de restaurantes del noreste: {len(df_restaurant[df_restaurant[\"estado\"].isin(noreste)])}\")\n",
    "\n",
    "print(f\"Cantidad de negocios del medio oeste: {len(df_metadata[df_metadata[\"estado\"].isin(medio_oeste)])}\")\n",
    "print(f\"Cantidad de restaurantes del medio oeste: {len(df_restaurant[df_restaurant[\"estado\"].isin(medio_oeste)])}\")\n",
    "\n",
    "print(f\"Cantidad de negocios del sur: {len(df_metadata[df_metadata[\"estado\"].isin(sur)])}\")\n",
    "print(f\"Cantidad de restaurantes sur: {len(df_restaurant[df_restaurant[\"estado\"].isin(sur)])}\")\n",
    "\n",
    "print(f\"Cantidad de negocios del oeste: {len(df_metadata[df_metadata[\"estado\"].isin(oeste)])}\")\n",
    "print(f\"Cantidad de restaurantes del oeste: {len(df_restaurant[df_restaurant[\"estado\"].isin(oeste)])}\")"
   ]
  },
  {
   "cell_type": "code",
   "execution_count": 45,
   "metadata": {},
   "outputs": [
    {
     "data": {
      "text/plain": [
       "estado\n",
       "CA    26896\n",
       "TX    19304\n",
       "NY    17077\n",
       "FL    13701\n",
       "PA     8349\n",
       "IL     8137\n",
       "NJ     7591\n",
       "GA     6250\n",
       "OH     5648\n",
       "VA     5364\n",
       "Name: count, dtype: int64"
      ]
     },
     "execution_count": 45,
     "metadata": {},
     "output_type": "execute_result"
    }
   ],
   "source": [
    "# Chequeamos los 10 estados con mayor cantidad de resaturantes:\n",
    "df_restaurant[\"estado\"].value_counts().head(10)"
   ]
  },
  {
   "cell_type": "markdown",
   "metadata": {},
   "source": [
    "Guardamos el DataFrame de restaurantes como PARQUET:"
   ]
  },
  {
   "cell_type": "code",
   "execution_count": 52,
   "metadata": {},
   "outputs": [],
   "source": [
    "# Eliminamos la columna \"category\", no nos será necesaria porque tenemos la columna \"categories\":\n",
    "df_restaurant.drop(columns=\"category\", inplace=True)"
   ]
  },
  {
   "cell_type": "code",
   "execution_count": 54,
   "metadata": {},
   "outputs": [],
   "source": [
    "df_restaurant.to_parquet(r\"../Datasets/Google Maps/restaurantes.parquet\", index=False)"
   ]
  }
 ],
 "metadata": {
  "kernelspec": {
   "display_name": "Python 3",
   "language": "python",
   "name": "python3"
  },
  "language_info": {
   "codemirror_mode": {
    "name": "ipython",
    "version": 3
   },
   "file_extension": ".py",
   "mimetype": "text/x-python",
   "name": "python",
   "nbconvert_exporter": "python",
   "pygments_lexer": "ipython3",
   "version": "3.12.1"
  }
 },
 "nbformat": 4,
 "nbformat_minor": 2
}
