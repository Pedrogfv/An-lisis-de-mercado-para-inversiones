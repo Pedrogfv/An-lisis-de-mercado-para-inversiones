{
 "cells": [
  {
   "cell_type": "code",
   "execution_count": 1,
   "metadata": {},
   "outputs": [],
   "source": [
    "import os\n",
    "import pandas as pd\n",
    "import matplotlib.pyplot as plt\n",
    "import seaborn as sns\n",
    "import pyarrow.parquet as pq\n",
    "\n",
    "import my_functions\n",
    "%load_ext autoreload\n",
    "%autoreload 2"
   ]
  },
  {
   "cell_type": "markdown",
   "metadata": {},
   "source": [
    "# Carga de metadata"
   ]
  },
  {
   "cell_type": "markdown",
   "metadata": {},
   "source": [
    "Se realiza la carga de 'df_id_restaurants' con contiene los identificadores ('gmap_id') de los restaurantes filtrados en el notebook 1.1."
   ]
  },
  {
   "cell_type": "code",
   "execution_count": 2,
   "metadata": {},
   "outputs": [],
   "source": [
    "# Cargar el archivo en un DataFrame\n",
    "df_id_restaurant = pd.read_parquet('Datasets/Google Maps/1_metadata_restaurants/df_id_restaurant.parquet')"
   ]
  },
  {
   "cell_type": "code",
   "execution_count": 3,
   "metadata": {},
   "outputs": [
    {
     "name": "stdout",
     "output_type": "stream",
     "text": [
      "Cantidad Registros:  210876\n",
      "Cantidad Campos:  1\n",
      "Campos:\n",
      " Index(['gmap_id'], dtype='object')\n"
     ]
    },
    {
     "data": {
      "text/html": [
       "<div>\n",
       "<style scoped>\n",
       "    .dataframe tbody tr th:only-of-type {\n",
       "        vertical-align: middle;\n",
       "    }\n",
       "\n",
       "    .dataframe tbody tr th {\n",
       "        vertical-align: top;\n",
       "    }\n",
       "\n",
       "    .dataframe thead th {\n",
       "        text-align: right;\n",
       "    }\n",
       "</style>\n",
       "<table border=\"1\" class=\"dataframe\">\n",
       "  <thead>\n",
       "    <tr style=\"text-align: right;\">\n",
       "      <th></th>\n",
       "      <th>Campo</th>\n",
       "      <th>Tipo de Dato</th>\n",
       "      <th>Valores Nulos</th>\n",
       "      <th>% Nulos</th>\n",
       "      <th>Valores No Nulos</th>\n",
       "      <th>% No Nulos</th>\n",
       "      <th>Valores Únicos</th>\n",
       "      <th>% Únicos</th>\n",
       "    </tr>\n",
       "  </thead>\n",
       "  <tbody>\n",
       "    <tr>\n",
       "      <th>0</th>\n",
       "      <td>gmap_id</td>\n",
       "      <td>[&lt;class 'str'&gt;]</td>\n",
       "      <td>0</td>\n",
       "      <td>0.0</td>\n",
       "      <td>210876</td>\n",
       "      <td>100.0</td>\n",
       "      <td>210876</td>\n",
       "      <td>100.0</td>\n",
       "    </tr>\n",
       "  </tbody>\n",
       "</table>\n",
       "</div>"
      ],
      "text/plain": [
       "     Campo     Tipo de Dato  Valores Nulos  % Nulos  Valores No Nulos  \\\n",
       "0  gmap_id  [<class 'str'>]              0      0.0            210876   \n",
       "\n",
       "   % No Nulos  Valores Únicos  % Únicos  \n",
       "0       100.0          210876     100.0  "
      ]
     },
     "execution_count": 3,
     "metadata": {},
     "output_type": "execute_result"
    }
   ],
   "source": [
    "my_functions.describir_df(df_id_restaurant)"
   ]
  },
  {
   "cell_type": "markdown",
   "metadata": {},
   "source": [
    "# Carga de datos de Reseñas"
   ]
  },
  {
   "cell_type": "markdown",
   "metadata": {},
   "source": [
    "La información relativa a las reseñas se encuentra en la carpeta 'reviews-estados' de el repositorio del proyecto. Dentro de la misma, se encuentra una subcarpeta por cada estado de los Estados Unidos y dentro de ellas archivos de tipo JSON que contienen la información fragmentada. \n",
    "\n",
    "Comenzaremos por unificar esta la información de cada estado, luego unificar todos los estados y cargarlos en un Dataframe que denominaremos 'df_reviews'.\n",
    "\n",
    "Ahora bien, solo se tomarán los registros cuyos identificadores de negocios ('gmap_id') se encuentren en 'df_id_restaurant' que contiene exclusivamente establecimientos en cuya categoría se encontró el término 'restaurant' (ver notebook 1.1).\n",
    "\n",
    "Por otro lado, se extraerán los nombres de los estados en un nuevo campo, 'state_name'."
   ]
  },
  {
   "cell_type": "code",
   "execution_count": 4,
   "metadata": {},
   "outputs": [],
   "source": [
    "# Ruta de la carpeta mayor \"reviews-estados\":\n",
    "directorio = r\"Datasets/Google Maps/reviews-estados\"\n",
    "\n",
    "# Crear DataFrame vacío df_reviews_restaurant\n",
    "df_reviews = pd.DataFrame()\n",
    "\n",
    "# Obtenemos la lista de carpetas en la carpeta mayor:\n",
    "carpeta_mayor = os.listdir(directorio)\n",
    "\n",
    "for carpeta in carpeta_mayor:\n",
    "\n",
    "    # Nombramos el nuevo DataFrame con el nombre de la carpeta:\n",
    "    nombre_carpeta = os.path.basename(carpeta)\n",
    "    nombre_carpeta = nombre_carpeta.replace(\"-\", \"_\")  # Reemplazamos guiones por guiones bajos\n",
    "\n",
    "    # Obtenemos la lista de archivos en la carpeta:\n",
    "    archivos = os.listdir(f\"Datasets/Google Maps/reviews-estados/{carpeta}\")\n",
    "\n",
    "    # Lista para almacenar los DataFrames de los JSON individuales:\n",
    "    dataframes = []\n",
    "\n",
    "    # Iteramos sobre los archivos JSON:\n",
    "    for archivo in archivos:\n",
    "    \n",
    "        # Verificamos si el archivo es un archivo JSON:\n",
    "        if archivo.endswith(\".json\"):\n",
    "\n",
    "            # Construimos la ruta completa al archivo:\n",
    "            ruta_completa = os.path.join(directorio, carpeta, archivo)\n",
    "            \n",
    "            # Cargamos el archivo JSON como DataFrame:\n",
    "            df = pd.read_json(ruta_completa, lines=True)\n",
    "            \n",
    "            # Agregamos la nueva columna 'state_name':\n",
    "            df['state_name'] = nombre_carpeta.replace('review_', '')\n",
    "\n",
    "            # Agregamos el DataFrame a la lista:\n",
    "            dataframes.append(df)\n",
    "\n",
    "    # Concatenamos todos los DataFrames en uno solo\n",
    "    df_states = pd.concat(dataframes, ignore_index=True)\n",
    "\n",
    "    # Filtramos registros en df_states que su gmap_id no esté en df_id_restaurant\n",
    "    df_states_filtered = df_states[df_states['gmap_id'].isin(df_id_restaurant['gmap_id'])]\n",
    "\n",
    "    # Concatenamos registros filtrados a df_reviews_restaurant\n",
    "    df_reviews = pd.concat([df_reviews, df_states_filtered], ignore_index=True)"
   ]
  },
  {
   "cell_type": "code",
   "execution_count": 5,
   "metadata": {},
   "outputs": [
    {
     "name": "stdout",
     "output_type": "stream",
     "text": [
      "<class 'pandas.core.frame.DataFrame'>\n",
      "RangeIndex: 11882745 entries, 0 to 11882744\n",
      "Data columns (total 9 columns):\n",
      " #   Column      Dtype  \n",
      "---  ------      -----  \n",
      " 0   user_id     float64\n",
      " 1   name        object \n",
      " 2   time        int64  \n",
      " 3   rating      int64  \n",
      " 4   text        object \n",
      " 5   pics        object \n",
      " 6   resp        object \n",
      " 7   gmap_id     object \n",
      " 8   state_name  object \n",
      "dtypes: float64(1), int64(2), object(6)\n",
      "memory usage: 815.9+ MB\n"
     ]
    }
   ],
   "source": [
    "# Se verifica la carga\n",
    "df_reviews.info()"
   ]
  },
  {
   "cell_type": "code",
   "execution_count": 6,
   "metadata": {},
   "outputs": [
    {
     "data": {
      "text/html": [
       "<div>\n",
       "<style scoped>\n",
       "    .dataframe tbody tr th:only-of-type {\n",
       "        vertical-align: middle;\n",
       "    }\n",
       "\n",
       "    .dataframe tbody tr th {\n",
       "        vertical-align: top;\n",
       "    }\n",
       "\n",
       "    .dataframe thead th {\n",
       "        text-align: right;\n",
       "    }\n",
       "</style>\n",
       "<table border=\"1\" class=\"dataframe\">\n",
       "  <thead>\n",
       "    <tr style=\"text-align: right;\">\n",
       "      <th></th>\n",
       "      <th>user_id</th>\n",
       "      <th>name</th>\n",
       "      <th>time</th>\n",
       "      <th>rating</th>\n",
       "      <th>text</th>\n",
       "      <th>pics</th>\n",
       "      <th>resp</th>\n",
       "      <th>gmap_id</th>\n",
       "      <th>state_name</th>\n",
       "    </tr>\n",
       "  </thead>\n",
       "  <tbody>\n",
       "    <tr>\n",
       "      <th>0</th>\n",
       "      <td>1.179759e+20</td>\n",
       "      <td>Anthony Roberts</td>\n",
       "      <td>1463443013514</td>\n",
       "      <td>4</td>\n",
       "      <td>On the higher end of price for pizza, but they...</td>\n",
       "      <td>None</td>\n",
       "      <td>None</td>\n",
       "      <td>0x8889221157fb3455:0x5c125c40c3eccc2a</td>\n",
       "      <td>Alabama</td>\n",
       "    </tr>\n",
       "  </tbody>\n",
       "</table>\n",
       "</div>"
      ],
      "text/plain": [
       "        user_id             name           time  rating  \\\n",
       "0  1.179759e+20  Anthony Roberts  1463443013514       4   \n",
       "\n",
       "                                                text  pics  resp  \\\n",
       "0  On the higher end of price for pizza, but they...  None  None   \n",
       "\n",
       "                                 gmap_id state_name  \n",
       "0  0x8889221157fb3455:0x5c125c40c3eccc2a    Alabama  "
      ]
     },
     "execution_count": 6,
     "metadata": {},
     "output_type": "execute_result"
    }
   ],
   "source": [
    "# Se visualiza un registro\n",
    "df_reviews.head(1)"
   ]
  },
  {
   "cell_type": "markdown",
   "metadata": {},
   "source": [
    "Habiendo verificado la carga de datos, se procede a guardar esta información en el archivo 'reviews_restaurants_raw.parquet', en el directorio '2_reviews_restaurants'."
   ]
  },
  {
   "cell_type": "code",
   "execution_count": 7,
   "metadata": {},
   "outputs": [
    {
     "name": "stdout",
     "output_type": "stream",
     "text": [
      "La carpeta 'Datasets\\Google Maps\\2_reviews_restaurants' ya existe.\n"
     ]
    }
   ],
   "source": [
    "# Nombre de la carpeta a crear\n",
    "nombre_carpeta = \"2_reviews_restaurants\"\n",
    "\n",
    "# Ruta relativa de la carpeta\n",
    "ruta_carpeta = os.path.join(\"Datasets\", \"Google Maps\", nombre_carpeta)\n",
    "\n",
    "# Verificar si la carpeta no existe y crearla si es necesario\n",
    "if not os.path.exists(ruta_carpeta):\n",
    "    os.makedirs(ruta_carpeta)\n",
    "    print(f\"Carpeta '{ruta_carpeta}' creada correctamente.\")\n",
    "else:\n",
    "    print(f\"La carpeta '{ruta_carpeta}' ya existe.\")\n"
   ]
  },
  {
   "cell_type": "code",
   "execution_count": 8,
   "metadata": {},
   "outputs": [],
   "source": [
    "# Exportar df_reviews a Parquet\n",
    "df_reviews.to_parquet('Datasets/Google Maps/2_reviews_restaurants/reviews_restaurants_raw.parquet', index=False)"
   ]
  },
  {
   "cell_type": "code",
   "execution_count": 9,
   "metadata": {},
   "outputs": [],
   "source": [
    "# Cargar el archivo en un DataFrame\n",
    "df_reviews = pd.read_parquet('Datasets/Google Maps/2_reviews_restaurants/reviews_restaurants_raw.parquet')"
   ]
  },
  {
   "cell_type": "markdown",
   "metadata": {},
   "source": [
    "## Descripción general del dataset"
   ]
  },
  {
   "cell_type": "markdown",
   "metadata": {},
   "source": [
    "## Tipo de datos"
   ]
  },
  {
   "cell_type": "markdown",
   "metadata": {},
   "source": [
    "Las columnas que presenta nuestro DataFrame son las siguientes:\n",
    "- user_id: tipo float64, ID del usuario que realiza la reseña.\n",
    "- name: tipo object, nombre del usuario que realiza la reseña.\n",
    "- time: tipo int64, tiempo en formato UNIX.\n",
    "- rating: tipo int64, calificación del negocio del 1(peor) al 5(mejor).\n",
    "- text: tipo object, texto de la reseña.\n",
    "- pics: tipo object, imágen de la reseña.\n",
    "- resp: tipo object, respuesta del negocio a la reseña del usuario, incluyendo tiempo en formato UNIX y texto de la reseña.\n",
    "- gmap_id: tipo object, ID del negocio.\n",
    "- state_name: tipo object, nombre del estado."
   ]
  },
  {
   "cell_type": "code",
   "execution_count": 10,
   "metadata": {},
   "outputs": [
    {
     "data": {
      "text/plain": [
       "user_id       float64\n",
       "name           object\n",
       "time            int64\n",
       "rating          int64\n",
       "text           object\n",
       "pics           object\n",
       "resp           object\n",
       "gmap_id        object\n",
       "state_name     object\n",
       "dtype: object"
      ]
     },
     "execution_count": 10,
     "metadata": {},
     "output_type": "execute_result"
    }
   ],
   "source": [
    "df_reviews.dtypes"
   ]
  },
  {
   "cell_type": "markdown",
   "metadata": {},
   "source": [
    "Para facilitar el procesamiento se convierten a tipo 'string' los campos de tipo 'object'."
   ]
  },
  {
   "cell_type": "code",
   "execution_count": 11,
   "metadata": {},
   "outputs": [],
   "source": [
    "# Modificar columnas a tipo string\n",
    "df_reviews['name'] = df_reviews['name'].astype('string')\n",
    "df_reviews['text'] = df_reviews['text'].astype('string')\n",
    "df_reviews['pics'] = df_reviews['pics'].astype('string')\n",
    "df_reviews['resp'] = df_reviews['resp'].astype('string')\n",
    "df_reviews['gmap_id'] = df_reviews['gmap_id'].astype('string')\n",
    "df_reviews['state_name'] = df_reviews['state_name'].astype('string')"
   ]
  },
  {
   "cell_type": "code",
   "execution_count": 12,
   "metadata": {},
   "outputs": [
    {
     "name": "stdout",
     "output_type": "stream",
     "text": [
      "<class 'pandas.core.frame.DataFrame'>\n",
      "RangeIndex: 11882745 entries, 0 to 11882744\n",
      "Data columns (total 9 columns):\n",
      " #   Column      Dtype  \n",
      "---  ------      -----  \n",
      " 0   user_id     float64\n",
      " 1   name        string \n",
      " 2   time        int64  \n",
      " 3   rating      int64  \n",
      " 4   text        string \n",
      " 5   pics        string \n",
      " 6   resp        string \n",
      " 7   gmap_id     string \n",
      " 8   state_name  string \n",
      "dtypes: float64(1), int64(2), string(6)\n",
      "memory usage: 815.9 MB\n"
     ]
    }
   ],
   "source": [
    "df_reviews.info()"
   ]
  },
  {
   "cell_type": "markdown",
   "metadata": {},
   "source": [
    "Se puede observar que hay más de 11 millones de reseñas que corresponden a los negocios sobre los cuales se aplico el filtro generado a partir de la metadata.\n",
    "\n",
    "Se ejecuta función para analizar tipo de datos, valores nulos y valores únicos para cada campo."
   ]
  },
  {
   "cell_type": "code",
   "execution_count": 13,
   "metadata": {},
   "outputs": [
    {
     "name": "stdout",
     "output_type": "stream",
     "text": [
      "Cantidad Registros:  11882745\n",
      "Cantidad Campos:  9\n",
      "Campos:\n",
      " Index(['user_id', 'name', 'time', 'rating', 'text', 'pics', 'resp', 'gmap_id',\n",
      "       'state_name'],\n",
      "      dtype='object')\n"
     ]
    },
    {
     "data": {
      "text/html": [
       "<div>\n",
       "<style scoped>\n",
       "    .dataframe tbody tr th:only-of-type {\n",
       "        vertical-align: middle;\n",
       "    }\n",
       "\n",
       "    .dataframe tbody tr th {\n",
       "        vertical-align: top;\n",
       "    }\n",
       "\n",
       "    .dataframe thead th {\n",
       "        text-align: right;\n",
       "    }\n",
       "</style>\n",
       "<table border=\"1\" class=\"dataframe\">\n",
       "  <thead>\n",
       "    <tr style=\"text-align: right;\">\n",
       "      <th></th>\n",
       "      <th>Campo</th>\n",
       "      <th>Tipo de Dato</th>\n",
       "      <th>Valores Nulos</th>\n",
       "      <th>% Nulos</th>\n",
       "      <th>Valores No Nulos</th>\n",
       "      <th>% No Nulos</th>\n",
       "      <th>Valores Únicos</th>\n",
       "      <th>% Únicos</th>\n",
       "    </tr>\n",
       "  </thead>\n",
       "  <tbody>\n",
       "    <tr>\n",
       "      <th>0</th>\n",
       "      <td>user_id</td>\n",
       "      <td>[&lt;class 'float'&gt;]</td>\n",
       "      <td>0</td>\n",
       "      <td>0.00</td>\n",
       "      <td>11882745</td>\n",
       "      <td>100.00</td>\n",
       "      <td>5623232</td>\n",
       "      <td>47.32</td>\n",
       "    </tr>\n",
       "    <tr>\n",
       "      <th>1</th>\n",
       "      <td>name</td>\n",
       "      <td>[&lt;class 'str'&gt;]</td>\n",
       "      <td>0</td>\n",
       "      <td>0.00</td>\n",
       "      <td>11882745</td>\n",
       "      <td>100.00</td>\n",
       "      <td>4137078</td>\n",
       "      <td>34.82</td>\n",
       "    </tr>\n",
       "    <tr>\n",
       "      <th>2</th>\n",
       "      <td>time</td>\n",
       "      <td>[&lt;class 'int'&gt;]</td>\n",
       "      <td>0</td>\n",
       "      <td>0.00</td>\n",
       "      <td>11882745</td>\n",
       "      <td>100.00</td>\n",
       "      <td>11402264</td>\n",
       "      <td>95.96</td>\n",
       "    </tr>\n",
       "    <tr>\n",
       "      <th>3</th>\n",
       "      <td>rating</td>\n",
       "      <td>[&lt;class 'int'&gt;]</td>\n",
       "      <td>0</td>\n",
       "      <td>0.00</td>\n",
       "      <td>11882745</td>\n",
       "      <td>100.00</td>\n",
       "      <td>5</td>\n",
       "      <td>0.00</td>\n",
       "    </tr>\n",
       "    <tr>\n",
       "      <th>4</th>\n",
       "      <td>text</td>\n",
       "      <td>[&lt;class 'str'&gt;, &lt;class 'pandas._libs.missing.N...</td>\n",
       "      <td>4809124</td>\n",
       "      <td>40.47</td>\n",
       "      <td>7073621</td>\n",
       "      <td>59.53</td>\n",
       "      <td>5500320</td>\n",
       "      <td>46.29</td>\n",
       "    </tr>\n",
       "    <tr>\n",
       "      <th>5</th>\n",
       "      <td>pics</td>\n",
       "      <td>[&lt;class 'pandas._libs.missing.NAType'&gt;, &lt;class...</td>\n",
       "      <td>11477607</td>\n",
       "      <td>96.59</td>\n",
       "      <td>405138</td>\n",
       "      <td>3.41</td>\n",
       "      <td>376499</td>\n",
       "      <td>3.17</td>\n",
       "    </tr>\n",
       "    <tr>\n",
       "      <th>6</th>\n",
       "      <td>resp</td>\n",
       "      <td>[&lt;class 'pandas._libs.missing.NAType'&gt;, &lt;class...</td>\n",
       "      <td>10596999</td>\n",
       "      <td>89.18</td>\n",
       "      <td>1285746</td>\n",
       "      <td>10.82</td>\n",
       "      <td>1221773</td>\n",
       "      <td>10.28</td>\n",
       "    </tr>\n",
       "    <tr>\n",
       "      <th>7</th>\n",
       "      <td>gmap_id</td>\n",
       "      <td>[&lt;class 'str'&gt;]</td>\n",
       "      <td>0</td>\n",
       "      <td>0.00</td>\n",
       "      <td>11882745</td>\n",
       "      <td>100.00</td>\n",
       "      <td>127123</td>\n",
       "      <td>1.07</td>\n",
       "    </tr>\n",
       "    <tr>\n",
       "      <th>8</th>\n",
       "      <td>state_name</td>\n",
       "      <td>[&lt;class 'str'&gt;]</td>\n",
       "      <td>0</td>\n",
       "      <td>0.00</td>\n",
       "      <td>11882745</td>\n",
       "      <td>100.00</td>\n",
       "      <td>51</td>\n",
       "      <td>0.00</td>\n",
       "    </tr>\n",
       "  </tbody>\n",
       "</table>\n",
       "</div>"
      ],
      "text/plain": [
       "        Campo                                       Tipo de Dato  \\\n",
       "0     user_id                                  [<class 'float'>]   \n",
       "1        name                                    [<class 'str'>]   \n",
       "2        time                                    [<class 'int'>]   \n",
       "3      rating                                    [<class 'int'>]   \n",
       "4        text  [<class 'str'>, <class 'pandas._libs.missing.N...   \n",
       "5        pics  [<class 'pandas._libs.missing.NAType'>, <class...   \n",
       "6        resp  [<class 'pandas._libs.missing.NAType'>, <class...   \n",
       "7     gmap_id                                    [<class 'str'>]   \n",
       "8  state_name                                    [<class 'str'>]   \n",
       "\n",
       "   Valores Nulos  % Nulos  Valores No Nulos  % No Nulos  Valores Únicos  \\\n",
       "0              0     0.00          11882745      100.00         5623232   \n",
       "1              0     0.00          11882745      100.00         4137078   \n",
       "2              0     0.00          11882745      100.00        11402264   \n",
       "3              0     0.00          11882745      100.00               5   \n",
       "4        4809124    40.47           7073621       59.53         5500320   \n",
       "5       11477607    96.59            405138        3.41          376499   \n",
       "6       10596999    89.18           1285746       10.82         1221773   \n",
       "7              0     0.00          11882745      100.00          127123   \n",
       "8              0     0.00          11882745      100.00              51   \n",
       "\n",
       "   % Únicos  \n",
       "0     47.32  \n",
       "1     34.82  \n",
       "2     95.96  \n",
       "3      0.00  \n",
       "4     46.29  \n",
       "5      3.17  \n",
       "6     10.28  \n",
       "7      1.07  \n",
       "8      0.00  "
      ]
     },
     "execution_count": 13,
     "metadata": {},
     "output_type": "execute_result"
    }
   ],
   "source": [
    "my_functions.describir_df(df_reviews)"
   ]
  },
  {
   "cell_type": "markdown",
   "metadata": {},
   "source": [
    "## Valores nulos"
   ]
  },
  {
   "cell_type": "markdown",
   "metadata": {},
   "source": [
    "Se obsevan valores nulos en 3 campos, 'text', 'pics' y 'resp'.\n",
    "\n",
    "El campo 'text' contiene la reseña escrita por el usuario, información de gran relevancia para nuestro análisis. Casi un 60% de los registros son nulos. A pesar de ello, se decide conservar este campo para su posterior análisis, a la espera de obtener alguna información de valor.\n",
    "\n",
    "Los campos 'pics' y 'resp' contienen casi el total de datos nulos, por lo cual se decide eliminarlos."
   ]
  },
  {
   "cell_type": "code",
   "execution_count": 14,
   "metadata": {},
   "outputs": [
    {
     "name": "stdout",
     "output_type": "stream",
     "text": [
      "<class 'pandas.core.frame.DataFrame'>\n",
      "RangeIndex: 11882745 entries, 0 to 11882744\n",
      "Data columns (total 7 columns):\n",
      " #   Column      Dtype  \n",
      "---  ------      -----  \n",
      " 0   user_id     float64\n",
      " 1   name        string \n",
      " 2   time        int64  \n",
      " 3   rating      int64  \n",
      " 4   text        string \n",
      " 5   gmap_id     string \n",
      " 6   state_name  string \n",
      "dtypes: float64(1), int64(2), string(4)\n",
      "memory usage: 634.6 MB\n"
     ]
    }
   ],
   "source": [
    "# Eliminar las columnas especificadas\n",
    "df_reviews = df_reviews.drop(columns = ['pics', 'resp'])\n",
    "\n",
    "df_reviews.info()"
   ]
  },
  {
   "cell_type": "markdown",
   "metadata": {},
   "source": [
    "A continuación se explora si existen registros duplicados, en cuyo caso deberán ser depurados."
   ]
  },
  {
   "cell_type": "markdown",
   "metadata": {},
   "source": [
    "## Registros duplicados"
   ]
  },
  {
   "cell_type": "markdown",
   "metadata": {},
   "source": [
    "Se ejecuta función para observar cuántas filas están duplicadas y el número total de filas con sus duplicados."
   ]
  },
  {
   "cell_type": "code",
   "execution_count": 15,
   "metadata": {},
   "outputs": [
    {
     "name": "stdout",
     "output_type": "stream",
     "text": [
      "Cantidad de registros duplicados:  944331\n",
      "Filas totales con duplicados: 475668\n"
     ]
    }
   ],
   "source": [
    "df_muestra_duplicados = my_functions.duplicados(df_reviews)\n",
    "print(\"Filas totales con duplicados:\", df_muestra_duplicados.duplicated().sum())"
   ]
  },
  {
   "cell_type": "markdown",
   "metadata": {},
   "source": [
    "Hay 946777 registros duplicados. Se eliminarán sus duplicados, conservando uno único de cada uno de ellos."
   ]
  },
  {
   "cell_type": "code",
   "execution_count": 16,
   "metadata": {},
   "outputs": [
    {
     "name": "stdout",
     "output_type": "stream",
     "text": [
      "Cantidad de registros: 11882745"
     ]
    },
    {
     "name": "stdout",
     "output_type": "stream",
     "text": [
      "\n",
      "Cantidad de registros luego del filtro: 11407077\n"
     ]
    }
   ],
   "source": [
    "# Eliminamos los duplicados:\n",
    "print(f\"Cantidad de registros: {len(df_reviews)}\")\n",
    "df_reviews.drop_duplicates(keep='first', inplace=True)\n",
    "print(f\"Cantidad de registros luego del filtro: {len(df_reviews)}\")"
   ]
  },
  {
   "cell_type": "markdown",
   "metadata": {},
   "source": [
    "Se verifica la eliminación de duplicados."
   ]
  },
  {
   "cell_type": "code",
   "execution_count": 17,
   "metadata": {},
   "outputs": [
    {
     "name": "stdout",
     "output_type": "stream",
     "text": [
      "Filas totales con duplicados: 0\n"
     ]
    }
   ],
   "source": [
    "print(\"Filas totales con duplicados:\", df_reviews.duplicated().sum())"
   ]
  },
  {
   "cell_type": "markdown",
   "metadata": {},
   "source": [
    "## Extracción de año y mes del campo 'time'"
   ]
  },
  {
   "cell_type": "markdown",
   "metadata": {},
   "source": [
    "Se observa que el campo 'time' contiene datos en formato 'Unix'.\n",
    "\n",
    "Se extraerá, en primer lugar, la fecha completa en un nuevo campo, 'datetime' y luego se crearán los campos 'year' y 'month' extrayendo información sobre el año y mes de la reseña."
   ]
  },
  {
   "cell_type": "code",
   "execution_count": 18,
   "metadata": {},
   "outputs": [
    {
     "data": {
      "text/plain": [
       "0           1463443013514\n",
       "1           1447623939865\n",
       "2           1469293549247\n",
       "3           1442279219480\n",
       "4           1382634896130\n",
       "                ...      \n",
       "11882740    1512010443190\n",
       "11882741    1530321971461\n",
       "11882742    1491401520613\n",
       "11882743    1556229091462\n",
       "11882744    1621204235473\n",
       "Name: time, Length: 11407077, dtype: int64"
      ]
     },
     "execution_count": 18,
     "metadata": {},
     "output_type": "execute_result"
    }
   ],
   "source": [
    "df_reviews['time']"
   ]
  },
  {
   "cell_type": "code",
   "execution_count": 19,
   "metadata": {},
   "outputs": [
    {
     "data": {
      "text/html": [
       "<div>\n",
       "<style scoped>\n",
       "    .dataframe tbody tr th:only-of-type {\n",
       "        vertical-align: middle;\n",
       "    }\n",
       "\n",
       "    .dataframe tbody tr th {\n",
       "        vertical-align: top;\n",
       "    }\n",
       "\n",
       "    .dataframe thead th {\n",
       "        text-align: right;\n",
       "    }\n",
       "</style>\n",
       "<table border=\"1\" class=\"dataframe\">\n",
       "  <thead>\n",
       "    <tr style=\"text-align: right;\">\n",
       "      <th></th>\n",
       "      <th>time</th>\n",
       "      <th>datetime</th>\n",
       "      <th>year</th>\n",
       "      <th>month</th>\n",
       "    </tr>\n",
       "  </thead>\n",
       "  <tbody>\n",
       "    <tr>\n",
       "      <th>0</th>\n",
       "      <td>1463443013514</td>\n",
       "      <td>2016-05-16</td>\n",
       "      <td>2016</td>\n",
       "      <td>5</td>\n",
       "    </tr>\n",
       "    <tr>\n",
       "      <th>1</th>\n",
       "      <td>1447623939865</td>\n",
       "      <td>2015-11-15</td>\n",
       "      <td>2015</td>\n",
       "      <td>11</td>\n",
       "    </tr>\n",
       "    <tr>\n",
       "      <th>2</th>\n",
       "      <td>1469293549247</td>\n",
       "      <td>2016-07-23</td>\n",
       "      <td>2016</td>\n",
       "      <td>7</td>\n",
       "    </tr>\n",
       "  </tbody>\n",
       "</table>\n",
       "</div>"
      ],
      "text/plain": [
       "            time   datetime  year  month\n",
       "0  1463443013514 2016-05-16  2016      5\n",
       "1  1447623939865 2015-11-15  2015     11\n",
       "2  1469293549247 2016-07-23  2016      7"
      ]
     },
     "execution_count": 19,
     "metadata": {},
     "output_type": "execute_result"
    }
   ],
   "source": [
    "# Convertir la columna 'datetime' a tipo datetime\n",
    "df_reviews['datetime'] = pd.to_datetime(df_reviews['time'], unit='ms').dt.date \n",
    "df_reviews['datetime'] = pd.to_datetime(df_reviews['datetime'])\n",
    "\n",
    "# Crear columnas 'year' y 'month'\n",
    "df_reviews['year'] = df_reviews['datetime'].dt.year\n",
    "df_reviews['month'] = df_reviews['datetime'].dt.month\n",
    "\n",
    "# Mostrar el DataFrame con las nuevas columnas\n",
    "df_reviews[['time', 'datetime', 'year', 'month']].head(3)"
   ]
  },
  {
   "cell_type": "markdown",
   "metadata": {},
   "source": [
    "Se verifica que la conversión se realizó exitosamente y se procede a explorar los valores de año y mes."
   ]
  },
  {
   "cell_type": "code",
   "execution_count": 20,
   "metadata": {},
   "outputs": [
    {
     "name": "stdout",
     "output_type": "stream",
     "text": [
      "Valores únicos en 'year': [1990, 1999, 2000, 2001, 2002, 2003, 2004, 2005, 2006, 2007, 2008, 2009, 2010, 2011, 2012, 2013, 2014, 2015, 2016, 2017, 2018, 2019, 2020, 2021]\n",
      "Valores únicos en 'month': [1, 2, 3, 4, 5, 6, 7, 8, 9, 10, 11, 12]\n"
     ]
    }
   ],
   "source": [
    "# Mostrar valores únicos ordenados en 'year'\n",
    "valores_unicos_year = sorted(df_reviews['year'].unique())\n",
    "print(\"Valores únicos en 'year':\", valores_unicos_year)\n",
    "\n",
    "# Mostrar valores únicos ordenados en 'month'\n",
    "valores_unicos_month = sorted(df_reviews['month'].unique())\n",
    "print(\"Valores únicos en 'month':\", valores_unicos_month)"
   ]
  },
  {
   "cell_type": "markdown",
   "metadata": {},
   "source": [
    "Las reseñas están distribuídas entre 1999 y 2021, con registros para 1990 que seguramente sean erróneos, considerando la fecha de creación de Google (se explorarán luego para determinar cómo tratarlos).\n",
    "\n",
    "Tras haber extraído el año y mes de la reseña, se descartan los campos time' y 'datetime' dado que ya no aportan valor."
   ]
  },
  {
   "cell_type": "code",
   "execution_count": 21,
   "metadata": {},
   "outputs": [],
   "source": [
    "# Eliminar las columnas especificadas\n",
    "df_reviews = df_reviews.drop(columns = ['time', 'datetime'])"
   ]
  },
  {
   "cell_type": "markdown",
   "metadata": {},
   "source": [
    "Se verifican los campos."
   ]
  },
  {
   "cell_type": "code",
   "execution_count": 22,
   "metadata": {},
   "outputs": [
    {
     "name": "stdout",
     "output_type": "stream",
     "text": [
      "<class 'pandas.core.frame.DataFrame'>\n",
      "Index: 11407077 entries, 0 to 11882744\n",
      "Data columns (total 8 columns):\n",
      " #   Column      Dtype  \n",
      "---  ------      -----  \n",
      " 0   user_id     float64\n",
      " 1   name        string \n",
      " 2   rating      int64  \n",
      " 3   text        string \n",
      " 4   gmap_id     string \n",
      " 5   state_name  string \n",
      " 6   year        int32  \n",
      " 7   month       int32  \n",
      "dtypes: float64(1), int32(2), int64(1), string(4)\n",
      "memory usage: 696.2 MB\n"
     ]
    }
   ],
   "source": [
    "df_reviews.info()"
   ]
  },
  {
   "cell_type": "markdown",
   "metadata": {},
   "source": [
    "## Exportar a archivo"
   ]
  },
  {
   "cell_type": "markdown",
   "metadata": {},
   "source": [
    "Se exporta la información al archivo 'reviews_restaurants_v1.parquet' que se almcenará en la carpeta '2_reviews_restaurants' de el repositorio."
   ]
  },
  {
   "cell_type": "code",
   "execution_count": 23,
   "metadata": {},
   "outputs": [],
   "source": [
    "# Guardar el DataFrame concatenado en un nuevo archivo\n",
    "df_reviews.to_parquet('Datasets/Google Maps/2_reviews_restaurants/reviews_restaurants_v1.parquet')"
   ]
  },
  {
   "cell_type": "markdown",
   "metadata": {},
   "source": [
    "En el siguiente notebook, \"2_EDA_restaurants\", se procederá a cruzar la información de la metadata de negocios y de reseñas para poder realizar un análisis exploratorio preliminar."
   ]
  }
 ],
 "metadata": {
  "kernelspec": {
   "display_name": "Python 3",
   "language": "python",
   "name": "python3"
  },
  "language_info": {
   "codemirror_mode": {
    "name": "ipython",
    "version": 3
   },
   "file_extension": ".py",
   "mimetype": "text/x-python",
   "name": "python",
   "nbconvert_exporter": "python",
   "pygments_lexer": "ipython3",
   "version": "3.11.4"
  }
 },
 "nbformat": 4,
 "nbformat_minor": 2
}
