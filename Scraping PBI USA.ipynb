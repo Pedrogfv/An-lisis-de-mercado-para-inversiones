{
 "cells": [
  {
   "cell_type": "code",
   "execution_count": 1,
   "metadata": {},
   "outputs": [],
   "source": [
    "import pandas as pd\n",
    "import requests\n",
    "from bs4 import BeautifulSoup\n",
    "import re"
   ]
  },
  {
   "cell_type": "markdown",
   "metadata": {},
   "source": [
    "Cargamos la información sobre PBI (GDP en inglés):"
   ]
  },
  {
   "cell_type": "markdown",
   "metadata": {},
   "source": [
    "https://en.wikipedia.org/wiki/List_of_U.S._states_and_territories_by_GDP"
   ]
  },
  {
   "cell_type": "code",
   "execution_count": 2,
   "metadata": {},
   "outputs": [
    {
     "name": "stderr",
     "output_type": "stream",
     "text": [
      "C:\\Users\\matia\\AppData\\Local\\Temp\\ipykernel_15432\\3250306064.py:16: FutureWarning: Passing literal html to 'read_html' is deprecated and will be removed in a future version. To read from a literal string, wrap it in a 'StringIO' object.\n",
      "  df = pd.read_html(str(tabla))[0]\n"
     ]
    }
   ],
   "source": [
    "# URL de la página de Wikipedia con la tabla\n",
    "url = 'https://en.wikipedia.org/wiki/List_of_U.S._states_and_territories_by_GDP'\n",
    "\n",
    "# Realiza la solicitud HTTP\n",
    "response = requests.get(url)\n",
    "\n",
    "# Verifica que la solicitud fue exitosa\n",
    "if response.status_code == 200:\n",
    "    # Parsea el contenido HTML\n",
    "    soup = BeautifulSoup(response.content, 'html.parser')\n",
    "    \n",
    "    # Encuentra la tabla por su clase CSS\n",
    "    tabla = soup.find('table', {'class': 'wikitable'})\n",
    "    \n",
    "    # Carga la tabla en un DataFrame de pandas\n",
    "    df = pd.read_html(str(tabla))[0]"
   ]
  },
  {
   "cell_type": "code",
   "execution_count": 3,
   "metadata": {},
   "outputs": [
    {
     "name": "stderr",
     "output_type": "stream",
     "text": [
      "C:\\Users\\matia\\AppData\\Local\\Temp\\ipykernel_15432\\2452373760.py:3: SettingWithCopyWarning: \n",
      "A value is trying to be set on a copy of a slice from a DataFrame.\n",
      "Try using .loc[row_indexer,col_indexer] = value instead\n",
      "\n",
      "See the caveats in the documentation: https://pandas.pydata.org/pandas-docs/stable/user_guide/indexing.html#returning-a-view-versus-a-copy\n",
      "  states_gdp[\"Nominal GDP per capita\"] = df[\"Nominal GDP per capita 2022[1][3]\"][\"2022\"]\n",
      "C:\\Users\\matia\\AppData\\Local\\Temp\\ipykernel_15432\\2452373760.py:4: SettingWithCopyWarning: \n",
      "A value is trying to be set on a copy of a slice from a DataFrame.\n",
      "Try using .loc[row_indexer,col_indexer] = value instead\n",
      "\n",
      "See the caveats in the documentation: https://pandas.pydata.org/pandas-docs/stable/user_guide/indexing.html#returning-a-view-versus-a-copy\n",
      "  states_gdp[\"% of national GDP\"] = df[\"% of national[1]\"][\"2022\"]\n",
      "C:\\Users\\matia\\AppData\\Local\\Temp\\ipykernel_15432\\2452373760.py:5: SettingWithCopyWarning: \n",
      "A value is trying to be set on a copy of a slice from a DataFrame.\n",
      "Try using .loc[row_indexer,col_indexer] = value instead\n",
      "\n",
      "See the caveats in the documentation: https://pandas.pydata.org/pandas-docs/stable/user_guide/indexing.html#returning-a-view-versus-a-copy\n",
      "  states_gdp[\"State\"] = df[\"State or federal district\"][\"State or federal district\"]\n",
      "C:\\Users\\matia\\AppData\\Local\\Temp\\ipykernel_15432\\2452373760.py:6: SettingWithCopyWarning: \n",
      "A value is trying to be set on a copy of a slice from a DataFrame.\n",
      "Try using .loc[row_indexer,col_indexer] = value instead\n",
      "\n",
      "See the caveats in the documentation: https://pandas.pydata.org/pandas-docs/stable/user_guide/indexing.html#returning-a-view-versus-a-copy\n",
      "  states_gdp[\"Nominal GDP at current prices 2022 (millions of U.S. dollars)\"] = states_gdp[\"2022\"].fillna(0).astype(int)\n"
     ]
    }
   ],
   "source": [
    "# Filtrado y modificaciones del DataFrame:\n",
    "states_gdp = df[\"Nominal GDP at current prices 2022 (millions of U.S. dollars)[1]\"]\n",
    "states_gdp[\"Nominal GDP per capita\"] = df[\"Nominal GDP per capita 2022[1][3]\"][\"2022\"]\n",
    "states_gdp[\"% of national GDP\"] = df[\"% of national[1]\"][\"2022\"]\n",
    "states_gdp[\"State\"] = df[\"State or federal district\"][\"State or federal district\"]\n",
    "states_gdp[\"Nominal GDP at current prices 2022 (millions of U.S. dollars)\"] = states_gdp[\"2022\"].fillna(0).astype(int)\n",
    "states_gdp = states_gdp.drop(columns=[\"2023\", \"2022\"]).drop(states_gdp.index[0]).reset_index(drop=True)\n",
    "states_gdp[\"State\"] = states_gdp[\"State\"].apply(lambda x: re.sub(r'\\s*\\*', '', x)).str.strip()\n",
    "states_gdp = states_gdp[[\"State\", \"Nominal GDP at current prices 2022 (millions of U.S. dollars)\", \"Nominal GDP per capita\", \"% of national GDP\"]]"
   ]
  },
  {
   "cell_type": "code",
   "execution_count": 4,
   "metadata": {},
   "outputs": [
    {
     "data": {
      "text/html": [
       "<div>\n",
       "<style scoped>\n",
       "    .dataframe tbody tr th:only-of-type {\n",
       "        vertical-align: middle;\n",
       "    }\n",
       "\n",
       "    .dataframe tbody tr th {\n",
       "        vertical-align: top;\n",
       "    }\n",
       "\n",
       "    .dataframe thead th {\n",
       "        text-align: right;\n",
       "    }\n",
       "</style>\n",
       "<table border=\"1\" class=\"dataframe\">\n",
       "  <thead>\n",
       "    <tr style=\"text-align: right;\">\n",
       "      <th></th>\n",
       "      <th>State</th>\n",
       "      <th>Nominal GDP at current prices 2022 (millions of U.S. dollars)</th>\n",
       "      <th>Nominal GDP per capita</th>\n",
       "      <th>% of national GDP</th>\n",
       "    </tr>\n",
       "  </thead>\n",
       "  <tbody>\n",
       "    <tr>\n",
       "      <th>0</th>\n",
       "      <td>California</td>\n",
       "      <td>3598103</td>\n",
       "      <td>$92,190</td>\n",
       "      <td>14.69%</td>\n",
       "    </tr>\n",
       "    <tr>\n",
       "      <th>1</th>\n",
       "      <td>Texas</td>\n",
       "      <td>2355960</td>\n",
       "      <td>$78,456</td>\n",
       "      <td>8.69%</td>\n",
       "    </tr>\n",
       "    <tr>\n",
       "      <th>2</th>\n",
       "      <td>New York</td>\n",
       "      <td>2053180</td>\n",
       "      <td>$104,344</td>\n",
       "      <td>8.11%</td>\n",
       "    </tr>\n",
       "    <tr>\n",
       "      <th>3</th>\n",
       "      <td>Florida</td>\n",
       "      <td>1389070</td>\n",
       "      <td>$62,446</td>\n",
       "      <td>5.37%</td>\n",
       "    </tr>\n",
       "    <tr>\n",
       "      <th>4</th>\n",
       "      <td>Illinois</td>\n",
       "      <td>1033310</td>\n",
       "      <td>$82,126</td>\n",
       "      <td>4.11%</td>\n",
       "    </tr>\n",
       "  </tbody>\n",
       "</table>\n",
       "</div>"
      ],
      "text/plain": [
       "        State  Nominal GDP at current prices 2022 (millions of U.S. dollars)  \\\n",
       "0  California                                            3598103               \n",
       "1       Texas                                            2355960               \n",
       "2    New York                                            2053180               \n",
       "3     Florida                                            1389070               \n",
       "4    Illinois                                            1033310               \n",
       "\n",
       "  Nominal GDP per capita % of national GDP  \n",
       "0                $92,190            14.69%  \n",
       "1                $78,456             8.69%  \n",
       "2               $104,344             8.11%  \n",
       "3                $62,446             5.37%  \n",
       "4                $82,126             4.11%  "
      ]
     },
     "execution_count": 4,
     "metadata": {},
     "output_type": "execute_result"
    }
   ],
   "source": [
    "states_gdp.head()"
   ]
  },
  {
   "cell_type": "markdown",
   "metadata": {},
   "source": [
    "Cargamos la información sobre población:"
   ]
  },
  {
   "cell_type": "markdown",
   "metadata": {},
   "source": [
    "https://en.wikipedia.org/wiki/List_of_U.S._states_and_territories_by_population"
   ]
  },
  {
   "cell_type": "code",
   "execution_count": 5,
   "metadata": {},
   "outputs": [
    {
     "name": "stderr",
     "output_type": "stream",
     "text": [
      "C:\\Users\\matia\\AppData\\Local\\Temp\\ipykernel_15432\\795262300.py:16: FutureWarning: Passing literal html to 'read_html' is deprecated and will be removed in a future version. To read from a literal string, wrap it in a 'StringIO' object.\n",
      "  population = pd.read_html(str(tabla))[0]\n"
     ]
    }
   ],
   "source": [
    "# URL de la página de Wikipedia con la tabla\n",
    "url = 'https://en.wikipedia.org/wiki/List_of_U.S._states_and_territories_by_population'\n",
    "\n",
    "# Realiza la solicitud HTTP\n",
    "response = requests.get(url)\n",
    "\n",
    "# Verifica que la solicitud fue exitosa\n",
    "if response.status_code == 200:\n",
    "    # Parsea el contenido HTML\n",
    "    soup = BeautifulSoup(response.content, 'html.parser')\n",
    "    \n",
    "    # Encuentra la tabla por su clase CSS\n",
    "    tabla = soup.find('table', {'class': 'wikitable'})\n",
    "    \n",
    "    # Carga la tabla en un DataFrame de pandas\n",
    "    population = pd.read_html(str(tabla))[0]"
   ]
  },
  {
   "cell_type": "code",
   "execution_count": 6,
   "metadata": {},
   "outputs": [
    {
     "name": "stderr",
     "output_type": "stream",
     "text": [
      "C:\\Users\\matia\\AppData\\Local\\Temp\\ipykernel_15432\\2120409046.py:3: SettingWithCopyWarning: \n",
      "A value is trying to be set on a copy of a slice from a DataFrame.\n",
      "Try using .loc[row_indexer,col_indexer] = value instead\n",
      "\n",
      "See the caveats in the documentation: https://pandas.pydata.org/pandas-docs/stable/user_guide/indexing.html#returning-a-view-versus-a-copy\n",
      "  states_ppl[\"State\"] = population[\"State or territory\"]\n",
      "C:\\Users\\matia\\AppData\\Local\\Temp\\ipykernel_15432\\2120409046.py:4: SettingWithCopyWarning: \n",
      "A value is trying to be set on a copy of a slice from a DataFrame.\n",
      "Try using .loc[row_indexer,col_indexer] = value instead\n",
      "\n",
      "See the caveats in the documentation: https://pandas.pydata.org/pandas-docs/stable/user_guide/indexing.html#returning-a-view-versus-a-copy\n",
      "  states_ppl[\"Population April 1, 2020\"] = states_ppl[\"April 1, 2020\"]\n"
     ]
    }
   ],
   "source": [
    "# Filtrado y modificaciones del DataFrame:\n",
    "states_ppl = population[\"Census population[8][a]\"]\n",
    "states_ppl[\"State\"] = population[\"State or territory\"]\n",
    "states_ppl[\"Population April 1, 2020\"] = states_ppl[\"April 1, 2020\"]\n",
    "states_ppl = states_ppl.drop(columns=[\"July 1, 2023 (est.)\", \"April 1, 2020\"]).drop(states_ppl.index[0]).reset_index(drop=True)"
   ]
  },
  {
   "cell_type": "code",
   "execution_count": 7,
   "metadata": {},
   "outputs": [
    {
     "data": {
      "text/html": [
       "<div>\n",
       "<style scoped>\n",
       "    .dataframe tbody tr th:only-of-type {\n",
       "        vertical-align: middle;\n",
       "    }\n",
       "\n",
       "    .dataframe tbody tr th {\n",
       "        vertical-align: top;\n",
       "    }\n",
       "\n",
       "    .dataframe thead th {\n",
       "        text-align: right;\n",
       "    }\n",
       "</style>\n",
       "<table border=\"1\" class=\"dataframe\">\n",
       "  <thead>\n",
       "    <tr style=\"text-align: right;\">\n",
       "      <th></th>\n",
       "      <th>State</th>\n",
       "      <th>Population April 1, 2020</th>\n",
       "    </tr>\n",
       "  </thead>\n",
       "  <tbody>\n",
       "    <tr>\n",
       "      <th>0</th>\n",
       "      <td>California</td>\n",
       "      <td>39538223.0</td>\n",
       "    </tr>\n",
       "    <tr>\n",
       "      <th>1</th>\n",
       "      <td>Texas</td>\n",
       "      <td>29145505.0</td>\n",
       "    </tr>\n",
       "    <tr>\n",
       "      <th>2</th>\n",
       "      <td>Florida</td>\n",
       "      <td>21538187.0</td>\n",
       "    </tr>\n",
       "    <tr>\n",
       "      <th>3</th>\n",
       "      <td>New York</td>\n",
       "      <td>20201249.0</td>\n",
       "    </tr>\n",
       "    <tr>\n",
       "      <th>4</th>\n",
       "      <td>Pennsylvania</td>\n",
       "      <td>13002700.0</td>\n",
       "    </tr>\n",
       "  </tbody>\n",
       "</table>\n",
       "</div>"
      ],
      "text/plain": [
       "          State  Population April 1, 2020\n",
       "0    California                39538223.0\n",
       "1         Texas                29145505.0\n",
       "2       Florida                21538187.0\n",
       "3      New York                20201249.0\n",
       "4  Pennsylvania                13002700.0"
      ]
     },
     "execution_count": 7,
     "metadata": {},
     "output_type": "execute_result"
    }
   ],
   "source": [
    "states_ppl.head()"
   ]
  },
  {
   "cell_type": "markdown",
   "metadata": {},
   "source": [
    "Unificamos ambas tablas:"
   ]
  },
  {
   "cell_type": "code",
   "execution_count": 8,
   "metadata": {},
   "outputs": [],
   "source": [
    "socioeconomic_data = pd.merge(states_gdp, states_ppl, on=\"State\", how=\"left\")"
   ]
  },
  {
   "cell_type": "code",
   "execution_count": 13,
   "metadata": {},
   "outputs": [
    {
     "data": {
      "text/html": [
       "<div>\n",
       "<style scoped>\n",
       "    .dataframe tbody tr th:only-of-type {\n",
       "        vertical-align: middle;\n",
       "    }\n",
       "\n",
       "    .dataframe tbody tr th {\n",
       "        vertical-align: top;\n",
       "    }\n",
       "\n",
       "    .dataframe thead th {\n",
       "        text-align: right;\n",
       "    }\n",
       "</style>\n",
       "<table border=\"1\" class=\"dataframe\">\n",
       "  <thead>\n",
       "    <tr style=\"text-align: right;\">\n",
       "      <th></th>\n",
       "      <th>State</th>\n",
       "      <th>Nominal GDP at current prices 2022 (millions of U.S. dollars)</th>\n",
       "      <th>Nominal GDP per capita</th>\n",
       "      <th>% of national GDP</th>\n",
       "      <th>Population April 1, 2020</th>\n",
       "    </tr>\n",
       "  </thead>\n",
       "  <tbody>\n",
       "    <tr>\n",
       "      <th>0</th>\n",
       "      <td>California</td>\n",
       "      <td>3598103</td>\n",
       "      <td>$92,190</td>\n",
       "      <td>14.69%</td>\n",
       "      <td>39538223.0</td>\n",
       "    </tr>\n",
       "    <tr>\n",
       "      <th>1</th>\n",
       "      <td>Texas</td>\n",
       "      <td>2355960</td>\n",
       "      <td>$78,456</td>\n",
       "      <td>8.69%</td>\n",
       "      <td>29145505.0</td>\n",
       "    </tr>\n",
       "    <tr>\n",
       "      <th>2</th>\n",
       "      <td>New York</td>\n",
       "      <td>2053180</td>\n",
       "      <td>$104,344</td>\n",
       "      <td>8.11%</td>\n",
       "      <td>20201249.0</td>\n",
       "    </tr>\n",
       "    <tr>\n",
       "      <th>3</th>\n",
       "      <td>Florida</td>\n",
       "      <td>1389070</td>\n",
       "      <td>$62,446</td>\n",
       "      <td>5.37%</td>\n",
       "      <td>21538187.0</td>\n",
       "    </tr>\n",
       "    <tr>\n",
       "      <th>4</th>\n",
       "      <td>Illinois</td>\n",
       "      <td>1033310</td>\n",
       "      <td>$82,126</td>\n",
       "      <td>4.11%</td>\n",
       "      <td>12812508.0</td>\n",
       "    </tr>\n",
       "  </tbody>\n",
       "</table>\n",
       "</div>"
      ],
      "text/plain": [
       "        State  Nominal GDP at current prices 2022 (millions of U.S. dollars)  \\\n",
       "0  California                                            3598103               \n",
       "1       Texas                                            2355960               \n",
       "2    New York                                            2053180               \n",
       "3     Florida                                            1389070               \n",
       "4    Illinois                                            1033310               \n",
       "\n",
       "  Nominal GDP per capita % of national GDP  Population April 1, 2020  \n",
       "0                $92,190            14.69%                39538223.0  \n",
       "1                $78,456             8.69%                29145505.0  \n",
       "2               $104,344             8.11%                20201249.0  \n",
       "3                $62,446             5.37%                21538187.0  \n",
       "4                $82,126             4.11%                12812508.0  "
      ]
     },
     "execution_count": 13,
     "metadata": {},
     "output_type": "execute_result"
    }
   ],
   "source": [
    "socioeconomic_data.head()"
   ]
  },
  {
   "cell_type": "code",
   "execution_count": 11,
   "metadata": {},
   "outputs": [],
   "source": [
    "# Guardado como parquet:\n",
    "socioeconomic_data.to_parquet('Datasets/Google Maps/1_metadata_restaurants/socioeconomic_data.parquet')"
   ]
  },
  {
   "cell_type": "code",
   "execution_count": 15,
   "metadata": {},
   "outputs": [],
   "source": [
    "# Guardado como:\n",
    "socioeconomic_data.to_csv('Datasets/Google Maps/1_metadata_restaurants/socioeconomic_data.csv')"
   ]
  },
  {
   "cell_type": "code",
   "execution_count": 14,
   "metadata": {},
   "outputs": [],
   "source": [
    "# Guardado como:\n",
    "socioeconomic_data.to_excel('Datasets/Google Maps/1_metadata_restaurants/socioeconomic_data.xlsx')"
   ]
  }
 ],
 "metadata": {
  "kernelspec": {
   "display_name": "Python 3",
   "language": "python",
   "name": "python3"
  },
  "language_info": {
   "codemirror_mode": {
    "name": "ipython",
    "version": 3
   },
   "file_extension": ".py",
   "mimetype": "text/x-python",
   "name": "python",
   "nbconvert_exporter": "python",
   "pygments_lexer": "ipython3",
   "version": "3.11.4"
  }
 },
 "nbformat": 4,
 "nbformat_minor": 2
}
